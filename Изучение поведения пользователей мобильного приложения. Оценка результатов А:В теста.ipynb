{
 "cells": [
  {
   "cell_type": "markdown",
   "metadata": {},
   "source": [
    "# Изучение поведения пользователей мобильного приложения. Оценка результатов А/В теста"
   ]
  },
  {
   "cell_type": "markdown",
   "metadata": {},
   "source": [
    "# Описание"
   ]
  },
  {
   "cell_type": "markdown",
   "metadata": {},
   "source": [
    "Работаете в стартапе, который продаёт продукты питания. Нужно разобраться, как ведут себя пользователи вашего мобильного приложения. \n",
    "1) Изучить воронку продаж. Узнать, как пользователи доходят до покупки. Сколько пользователей доходит до покупки, а сколько — «застревает» на предыдущих шагах? На каких именно? \\\n",
    "2) После этого исследовать результаты A/A/B-эксперимента. Дизайнеры захотели поменять шрифты во всём приложении, а менеджеры испугались, что пользователям будет непривычно. Договорились принять решение по результатам A/A/B-теста. Пользователей разбили на 3 группы: 2 контрольные со старыми шрифтами и одну экспериментальную — с новыми. Выясним, какой шрифт лучше. \\\n",
    "3) Создадим 2 группы A вместо одной. Если две контрольные группы окажутся равны, вы можно быть уверенными в точности проведенного тестирования. Если же между значениями A и A будут существенные различия, это поможет обнаружить факторы, которые привели к искажению результатов. Сравнение контрольных групп также помогает понять, сколько времени и данных потребуется для дальнейших тестов.\n",
    "\n",
    "\n",
    "В случае общей аналитики и A/A/B-эксперимента работайте с одними и теми же данными. В реальных проектах всегда идут эксперименты. Аналитики исследуют качество работы приложения по общим данным, не учитывая принадлежность пользователей к экспериментам.\n"
   ]
  },
  {
   "cell_type": "markdown",
   "metadata": {},
   "source": [
    "# Ход работы"
   ]
  },
  {
   "cell_type": "markdown",
   "metadata": {},
   "source": [
    "1) Импортируем библиотеки и файл с данными \\\n",
    "2) Выполним подготовку данных в ходе которой проверим данные на наличие дубликатов и удалим их, приведем названия столбцов к нормам питона, добавим столбцы с датой и временем и датой. \\\n",
    "3) Изучим данные. Посчитаем кол-во событий в логе, посчитаем среднее кол-во на каждого клиента, определим даты начала и конца эксперимента, определим насколько равномерно распределены данные по датам и удалим неполные дни эксперимента \\\n",
    "4) Изучим воронку. Изучим основные воронки, проанализируем какое кол-во посетителей дошло до каждой из них. \\\n",
    "5) Изучим результаты эксперимента. Посмотрим склько событий приходится на каждую группу. Посчитаем в какой воронке сколько клиентов из каждой группы, а так же какой это процент от всех пользователей.\\\n",
    "6) Проверим статистическую значимость между группами А/А теста, а затем между группами А/А теста и экспирементальной группой. \\\n",
    "7) Напишем выводы"
   ]
  },
  {
   "cell_type": "markdown",
   "metadata": {},
   "source": [
    "### Импортируем данные и нужные библиотеки"
   ]
  },
  {
   "cell_type": "code",
   "execution_count": 1,
   "metadata": {},
   "outputs": [],
   "source": [
    "import plotly.graph_objects as go\n",
    "import plotly.express as px\n",
    "import pandas as pd\n",
    "import matplotlib.pyplot as plt\n",
    "import numpy as np\n",
    "import scipy.stats as stats\n",
    "import math\n",
    "from datetime import datetime, timedelta\n",
    "from plotly.subplots import make_subplots\n",
    "from scipy import stats as st"
   ]
  },
  {
   "cell_type": "code",
   "execution_count": 2,
   "metadata": {},
   "outputs": [],
   "source": [
    "try:\n",
    "    log = pd.read_csv('/datasets/logs_exp.csv', sep='\\t')\n",
    "except:\n",
    "    log = pd.read_csv('logs_exp.csv', sep='\\t')\n",
    " "
   ]
  },
  {
   "cell_type": "code",
   "execution_count": 3,
   "metadata": {},
   "outputs": [
    {
     "name": "stdout",
     "output_type": "stream",
     "text": [
      "<class 'pandas.core.frame.DataFrame'>\n",
      "RangeIndex: 244126 entries, 0 to 244125\n",
      "Data columns (total 4 columns):\n",
      " #   Column          Non-Null Count   Dtype \n",
      "---  ------          --------------   ----- \n",
      " 0   EventName       244126 non-null  object\n",
      " 1   DeviceIDHash    244126 non-null  int64 \n",
      " 2   EventTimestamp  244126 non-null  int64 \n",
      " 3   ExpId           244126 non-null  int64 \n",
      "dtypes: int64(3), object(1)\n",
      "memory usage: 7.5+ MB\n"
     ]
    }
   ],
   "source": [
    "log.info()"
   ]
  },
  {
   "cell_type": "markdown",
   "metadata": {},
   "source": [
    "Пропусков нет. Надо будет поменять формат EventTimestamp, так как это время, а отображено оно в int64"
   ]
  },
  {
   "cell_type": "markdown",
   "metadata": {},
   "source": [
    "### Подготовка данных"
   ]
  },
  {
   "cell_type": "markdown",
   "metadata": {},
   "source": [
    "Проверим на дубликаты"
   ]
  },
  {
   "cell_type": "code",
   "execution_count": 4,
   "metadata": {},
   "outputs": [
    {
     "data": {
      "text/plain": [
       "413"
      ]
     },
     "execution_count": 4,
     "metadata": {},
     "output_type": "execute_result"
    }
   ],
   "source": [
    "log.duplicated().sum()"
   ]
  },
  {
   "cell_type": "markdown",
   "metadata": {},
   "source": [
    "Удаляем явные дубликаты"
   ]
  },
  {
   "cell_type": "code",
   "execution_count": 5,
   "metadata": {},
   "outputs": [],
   "source": [
    "log = log.drop_duplicates().reset_index(drop=True)"
   ]
  },
  {
   "cell_type": "markdown",
   "metadata": {},
   "source": [
    "1) Приведем названия столбцов к нормам питона. Сделаем snake_case"
   ]
  },
  {
   "cell_type": "code",
   "execution_count": 6,
   "metadata": {},
   "outputs": [],
   "source": [
    "log.columns = (log.columns.str.replace('(?<=[a-z])(?=[A-Z])', '_', regex=True).str.lower())"
   ]
  },
  {
   "cell_type": "markdown",
   "metadata": {},
   "source": [
    "Для дальнейшей работы с данными и периодами добавим столбцы с датой и временем и просто датой ( все приведем к datetime)"
   ]
  },
  {
   "cell_type": "code",
   "execution_count": 45,
   "metadata": {},
   "outputs": [
    {
     "data": {
      "text/html": [
       "<div>\n",
       "<style scoped>\n",
       "    .dataframe tbody tr th:only-of-type {\n",
       "        vertical-align: middle;\n",
       "    }\n",
       "\n",
       "    .dataframe tbody tr th {\n",
       "        vertical-align: top;\n",
       "    }\n",
       "\n",
       "    .dataframe thead th {\n",
       "        text-align: right;\n",
       "    }\n",
       "</style>\n",
       "<table border=\"1\" class=\"dataframe\">\n",
       "  <thead>\n",
       "    <tr style=\"text-align: right;\">\n",
       "      <th></th>\n",
       "      <th>event_name</th>\n",
       "      <th>device_idhash</th>\n",
       "      <th>event_timestamp</th>\n",
       "      <th>exp_id</th>\n",
       "      <th>date_time</th>\n",
       "      <th>date</th>\n",
       "    </tr>\n",
       "  </thead>\n",
       "  <tbody>\n",
       "    <tr>\n",
       "      <th>0</th>\n",
       "      <td>MainScreenAppear</td>\n",
       "      <td>4575588528974610257</td>\n",
       "      <td>1564029816</td>\n",
       "      <td>246</td>\n",
       "      <td>2019-07-25 04:43:36</td>\n",
       "      <td>2019-07-25</td>\n",
       "    </tr>\n",
       "    <tr>\n",
       "      <th>1</th>\n",
       "      <td>MainScreenAppear</td>\n",
       "      <td>7416695313311560658</td>\n",
       "      <td>1564053102</td>\n",
       "      <td>246</td>\n",
       "      <td>2019-07-25 11:11:42</td>\n",
       "      <td>2019-07-25</td>\n",
       "    </tr>\n",
       "    <tr>\n",
       "      <th>2</th>\n",
       "      <td>PaymentScreenSuccessful</td>\n",
       "      <td>3518123091307005509</td>\n",
       "      <td>1564054127</td>\n",
       "      <td>248</td>\n",
       "      <td>2019-07-25 11:28:47</td>\n",
       "      <td>2019-07-25</td>\n",
       "    </tr>\n",
       "    <tr>\n",
       "      <th>3</th>\n",
       "      <td>CartScreenAppear</td>\n",
       "      <td>3518123091307005509</td>\n",
       "      <td>1564054127</td>\n",
       "      <td>248</td>\n",
       "      <td>2019-07-25 11:28:47</td>\n",
       "      <td>2019-07-25</td>\n",
       "    </tr>\n",
       "    <tr>\n",
       "      <th>4</th>\n",
       "      <td>PaymentScreenSuccessful</td>\n",
       "      <td>6217807653094995999</td>\n",
       "      <td>1564055322</td>\n",
       "      <td>248</td>\n",
       "      <td>2019-07-25 11:48:42</td>\n",
       "      <td>2019-07-25</td>\n",
       "    </tr>\n",
       "  </tbody>\n",
       "</table>\n",
       "</div>"
      ],
      "text/plain": [
       "                event_name        device_idhash  event_timestamp  exp_id  \\\n",
       "0         MainScreenAppear  4575588528974610257       1564029816     246   \n",
       "1         MainScreenAppear  7416695313311560658       1564053102     246   \n",
       "2  PaymentScreenSuccessful  3518123091307005509       1564054127     248   \n",
       "3         CartScreenAppear  3518123091307005509       1564054127     248   \n",
       "4  PaymentScreenSuccessful  6217807653094995999       1564055322     248   \n",
       "\n",
       "            date_time       date  \n",
       "0 2019-07-25 04:43:36 2019-07-25  \n",
       "1 2019-07-25 11:11:42 2019-07-25  \n",
       "2 2019-07-25 11:28:47 2019-07-25  \n",
       "3 2019-07-25 11:28:47 2019-07-25  \n",
       "4 2019-07-25 11:48:42 2019-07-25  "
      ]
     },
     "execution_count": 45,
     "metadata": {},
     "output_type": "execute_result"
    }
   ],
   "source": [
    "log['date_time'] = pd.to_datetime(log['event_timestamp'], unit='s')\n",
    "log['date'] = pd.to_datetime(log['date_time']).dt.date \n",
    "log['date'] = pd.to_datetime(log['date']) \n",
    "log.head()"
   ]
  },
  {
   "cell_type": "markdown",
   "metadata": {},
   "source": [
    "### Изучим данные"
   ]
  },
  {
   "cell_type": "code",
   "execution_count": 46,
   "metadata": {},
   "outputs": [
    {
     "data": {
      "text/plain": [
       "event_name              5\n",
       "device_idhash        7551\n",
       "event_timestamp    176654\n",
       "exp_id                  3\n",
       "date_time          176654\n",
       "date                   14\n",
       "dtype: int64"
      ]
     },
     "execution_count": 46,
     "metadata": {},
     "output_type": "execute_result"
    }
   ],
   "source": [
    "log.nunique()"
   ]
  },
  {
   "cell_type": "markdown",
   "metadata": {},
   "source": [
    "Видим, что у нас есть 5 названий событий, 7551 пользовательских id, 3 экспнриментальных id (2 их них будут контрольными и один рабочим). И видим так же, что эксперимент проводился в 14 дат. "
   ]
  },
  {
   "cell_type": "markdown",
   "metadata": {},
   "source": [
    "Посчитаем общее кол-во событий в логе"
   ]
  },
  {
   "cell_type": "code",
   "execution_count": 47,
   "metadata": {
    "scrolled": false
   },
   "outputs": [
    {
     "name": "stdout",
     "output_type": "stream",
     "text": [
      "Всего событий в логе:243713\n"
     ]
    }
   ],
   "source": [
    "print(f\"Всего событий в логе:{log['event_name'].count()}\")"
   ]
  },
  {
   "cell_type": "markdown",
   "metadata": {},
   "source": [
    "Посчитаем сколько в среднем событий приходится на пользователя"
   ]
  },
  {
   "cell_type": "code",
   "execution_count": 48,
   "metadata": {},
   "outputs": [
    {
     "name": "stdout",
     "output_type": "stream",
     "text": [
      "Среднее количество событий на каждого пользователя: 32\n"
     ]
    }
   ],
   "source": [
    "print(f\"Среднее количество событий на каждого пользователя: {round(log['event_name'].count() / log['device_idhash'].nunique())}\")"
   ]
  },
  {
   "cell_type": "markdown",
   "metadata": {},
   "source": [
    "Найдем первую и последнюю дату эксперимента."
   ]
  },
  {
   "cell_type": "code",
   "execution_count": 49,
   "metadata": {},
   "outputs": [
    {
     "name": "stdout",
     "output_type": "stream",
     "text": [
      "Минимальная дата эксперимента: 2019-07-25 04:43:36\n",
      "Максимальная дата эксперимента: 2019-08-07 21:15:17\n"
     ]
    }
   ],
   "source": [
    "print(f\"Минимальная дата эксперимента: {log['date_time'].min()}\")\n",
    "print(f\"Максимальная дата эксперимента: {log['date_time'].max()}\")"
   ]
  },
  {
   "cell_type": "markdown",
   "metadata": {},
   "source": [
    "Видим, что эксперимент начался 25.07 и продолжился до 07.08 "
   ]
  },
  {
   "cell_type": "markdown",
   "metadata": {},
   "source": [
    "Посмотрим сколько всего событий было за это время и как они распределены по дням"
   ]
  },
  {
   "cell_type": "code",
   "execution_count": 50,
   "metadata": {},
   "outputs": [
    {
     "name": "stdout",
     "output_type": "stream",
     "text": [
      "Всего событий:243713\n"
     ]
    }
   ],
   "source": [
    "print(f\"Всего событий:{log['event_name'].count()}\")"
   ]
  },
  {
   "cell_type": "code",
   "execution_count": 51,
   "metadata": {
    "scrolled": false
   },
   "outputs": [
    {
     "data": {
      "image/png": "[encoded data removed]",
      "text/plain": [
       "<Figure size 1500x700 with 1 Axes>"
      ]
     },
     "metadata": {},
     "output_type": "display_data"
    }
   ],
   "source": [
    "plt.figure(figsize=(15, 7)) \n",
    "plt.hist(log['date_time'], bins=1000, edgecolor='blue', alpha=0.5)\n",
    "plt.title('Распределение событий по датам')\n",
    "plt.xlabel('Дата')\n",
    "plt.ylabel('Частота')\n",
    "plt.xticks(rotation=45)\n",
    "plt.tight_layout()  \n",
    "plt.grid(True) \n",
    "plt.show()"
   ]
  },
  {
   "cell_type": "markdown",
   "metadata": {},
   "source": [
    "Видим, что данные не одинаково полные, с 25.07 по 01.08 очень мало данных по сравнению с остальными днями эксперимента. Уберем эти дни"
   ]
  },
  {
   "cell_type": "code",
   "execution_count": 52,
   "metadata": {},
   "outputs": [
    {
     "data": {
      "text/plain": [
       "event_name              5\n",
       "device_idhash        7534\n",
       "event_timestamp    174044\n",
       "exp_id                  3\n",
       "date_time          174044\n",
       "date                    7\n",
       "dtype: int64"
      ]
     },
     "execution_count": 52,
     "metadata": {},
     "output_type": "execute_result"
    }
   ],
   "source": [
    "new = log.query(\"date > '2019-07-31'\")\n",
    "new.nunique()"
   ]
  },
  {
   "cell_type": "markdown",
   "metadata": {},
   "source": [
    "Видим, что дат осталось всего 7"
   ]
  },
  {
   "cell_type": "code",
   "execution_count": 54,
   "metadata": {},
   "outputs": [
    {
     "data": {
      "text/plain": [
       "event_name              5\n",
       "device_idhash        7534\n",
       "event_timestamp    174044\n",
       "exp_id                  3\n",
       "date_time          174044\n",
       "date                    7\n",
       "dtype: int64"
      ]
     },
     "execution_count": 54,
     "metadata": {},
     "output_type": "execute_result"
    }
   ],
   "source": [
    "new = log.query(\"date > '2019-07-31'\")\n",
    "new.nunique()"
   ]
  },
  {
   "cell_type": "code",
   "execution_count": 55,
   "metadata": {},
   "outputs": [
    {
     "name": "stdout",
     "output_type": "stream",
     "text": [
      "\n",
      " Количество событий после чистки данных: 240887 \n",
      " Количество потеряных событий: 2826 \n",
      " % потеряли: 1.16\n",
      "\n",
      " Количество пользователей после чистки данных: 7534 \n",
      " Количество потеряных пользователей: 17 \n",
      " % потеряли: 0.23\n"
     ]
    }
   ],
   "source": [
    "print(\n",
    "    '\\n Количество событий после чистки данных:', new.shape[0],\n",
    "    '\\n Количество потеряных событий:', log.shape[0] - new.shape[0],\n",
    "    '\\n % потеряли:', round((log.shape[0] - new.shape[0])/log.shape[0]*100, 2)\n",
    "     )\n",
    "\n",
    "print(\n",
    "    '\\n Количество пользователей после чистки данных:', len(new['device_idhash'].unique()),\n",
    "    '\\n Количество потеряных пользователей:', len(log['device_idhash'].unique()) - len(new['device_idhash'].unique()),\n",
    "    '\\n % потеряли:', round((len(log['device_idhash'].unique()) - len(new['device_idhash'].unique())) / log['device_idhash'].nunique()*100, 2))"
   ]
  },
  {
   "cell_type": "markdown",
   "metadata": {},
   "source": [
    "Видим, что потеряли 2826 событий - это 1,16% и 17 пользователей - это 0,23%. Потерянные данные менее 5%, следовательно потери допустимы"
   ]
  },
  {
   "cell_type": "markdown",
   "metadata": {},
   "source": [
    "Проверим, что после фильтрации остались представители всех трех групп"
   ]
  },
  {
   "cell_type": "code",
   "execution_count": 56,
   "metadata": {},
   "outputs": [
    {
     "data": {
      "text/plain": [
       "exp_id\n",
       "246    2484\n",
       "247    2513\n",
       "248    2537\n",
       "Name: device_idhash, dtype: int64"
      ]
     },
     "execution_count": 56,
     "metadata": {},
     "output_type": "execute_result"
    }
   ],
   "source": [
    "group = new.groupby('exp_id')['device_idhash'].nunique()\n",
    "group"
   ]
  },
  {
   "cell_type": "markdown",
   "metadata": {},
   "source": [
    "### Изучаем воронку"
   ]
  },
  {
   "cell_type": "code",
   "execution_count": 57,
   "metadata": {},
   "outputs": [
    {
     "data": {
      "text/plain": [
       "array(['MainScreenAppear', 'PaymentScreenSuccessful', 'CartScreenAppear',\n",
       "       'OffersScreenAppear', 'Tutorial'], dtype=object)"
      ]
     },
     "execution_count": 57,
     "metadata": {},
     "output_type": "execute_result"
    }
   ],
   "source": [
    "log['event_name'].unique()"
   ]
  },
  {
   "cell_type": "markdown",
   "metadata": {},
   "source": [
    "MainScreenAppear - главный экран \\\n",
    "PaymentScreenSuccessful - оплата успешная \\\n",
    "CartScreenAppear - корзина \\\n",
    "OffersScreenAppear - офферта \\\n",
    "Tutorial - инструкция "
   ]
  },
  {
   "cell_type": "markdown",
   "metadata": {},
   "source": [
    "Посмотрим до какого экрана сколько пользователей дошло"
   ]
  },
  {
   "cell_type": "code",
   "execution_count": 58,
   "metadata": {},
   "outputs": [
    {
     "data": {
      "text/plain": [
       "MainScreenAppear           117328\n",
       "OffersScreenAppear          46333\n",
       "CartScreenAppear            42303\n",
       "PaymentScreenSuccessful     33918\n",
       "Tutorial                     1005\n",
       "Name: event_name, dtype: int64"
      ]
     },
     "execution_count": 58,
     "metadata": {},
     "output_type": "execute_result"
    }
   ],
   "source": [
    "new['event_name'].value_counts()"
   ]
  },
  {
   "cell_type": "markdown",
   "metadata": {},
   "source": [
    "Сгруппируем данные по событиям и уникальным пользователям. "
   ]
  },
  {
   "cell_type": "code",
   "execution_count": 59,
   "metadata": {},
   "outputs": [],
   "source": [
    "event_user = (\n",
    "        new.groupby('event_name').agg({'event_name':'count', 'device_idhash': 'nunique'})\n",
    "        .rename(columns={'event_name':'event_cnt', 'device_idhash':'user_cnt'})\n",
    "        .sort_values(by ='event_cnt', ascending=False).reset_index())"
   ]
  },
  {
   "cell_type": "markdown",
   "metadata": {},
   "source": [
    "Посмотрим сколько процентов от общего числа дошли до каждой страницы"
   ]
  },
  {
   "cell_type": "code",
   "execution_count": 60,
   "metadata": {},
   "outputs": [
    {
     "data": {
      "text/html": [
       "<div>\n",
       "<style scoped>\n",
       "    .dataframe tbody tr th:only-of-type {\n",
       "        vertical-align: middle;\n",
       "    }\n",
       "\n",
       "    .dataframe tbody tr th {\n",
       "        vertical-align: top;\n",
       "    }\n",
       "\n",
       "    .dataframe thead th {\n",
       "        text-align: right;\n",
       "    }\n",
       "</style>\n",
       "<table border=\"1\" class=\"dataframe\">\n",
       "  <thead>\n",
       "    <tr style=\"text-align: right;\">\n",
       "      <th></th>\n",
       "      <th>event_name</th>\n",
       "      <th>event_cnt</th>\n",
       "      <th>user_cnt</th>\n",
       "      <th>convers_step</th>\n",
       "    </tr>\n",
       "  </thead>\n",
       "  <tbody>\n",
       "    <tr>\n",
       "      <th>0</th>\n",
       "      <td>MainScreenAppear</td>\n",
       "      <td>117328</td>\n",
       "      <td>7419</td>\n",
       "      <td>100.0</td>\n",
       "    </tr>\n",
       "    <tr>\n",
       "      <th>1</th>\n",
       "      <td>OffersScreenAppear</td>\n",
       "      <td>46333</td>\n",
       "      <td>4593</td>\n",
       "      <td>61.9</td>\n",
       "    </tr>\n",
       "    <tr>\n",
       "      <th>2</th>\n",
       "      <td>CartScreenAppear</td>\n",
       "      <td>42303</td>\n",
       "      <td>3734</td>\n",
       "      <td>81.3</td>\n",
       "    </tr>\n",
       "    <tr>\n",
       "      <th>3</th>\n",
       "      <td>PaymentScreenSuccessful</td>\n",
       "      <td>33918</td>\n",
       "      <td>3539</td>\n",
       "      <td>94.8</td>\n",
       "    </tr>\n",
       "    <tr>\n",
       "      <th>4</th>\n",
       "      <td>Tutorial</td>\n",
       "      <td>1005</td>\n",
       "      <td>840</td>\n",
       "      <td>23.7</td>\n",
       "    </tr>\n",
       "  </tbody>\n",
       "</table>\n",
       "</div>"
      ],
      "text/plain": [
       "                event_name  event_cnt  user_cnt  convers_step\n",
       "0         MainScreenAppear     117328      7419         100.0\n",
       "1       OffersScreenAppear      46333      4593          61.9\n",
       "2         CartScreenAppear      42303      3734          81.3\n",
       "3  PaymentScreenSuccessful      33918      3539          94.8\n",
       "4                 Tutorial       1005       840          23.7"
      ]
     },
     "execution_count": 60,
     "metadata": {},
     "output_type": "execute_result"
    }
   ],
   "source": [
    "event_user['step'] = event_user['user_cnt'].shift()\n",
    "event_user['convers_step'] = round(event_user['user_cnt'] / event_user['step'] * 100, 1) \n",
    "event_user.drop(columns= ['step'], axis = 1, inplace = True) #удаляем столбец step\n",
    "event_user = event_user.fillna(100) # Заменbv NaN в первой строке на 100% \n",
    "\n",
    "event_user"
   ]
  },
  {
   "cell_type": "markdown",
   "metadata": {},
   "source": [
    "Видим, что главную страницу посетило 98,5%, оффер прочитали 61%, в корзину зашли уже 49,6%, а до успешной оплаты дошли 47%. Меньше половины пользователей. Так же видим, что наиболее сложным шагом является ознакомление с оффером, так как ее проходят всего 61,9%. Возможно страница сложная для восприятия."
   ]
  },
  {
   "cell_type": "markdown",
   "metadata": {},
   "source": [
    "Визуализируем данные"
   ]
  },
  {
   "cell_type": "code",
   "execution_count": 62,
   "metadata": {
    "scrolled": false
   },
   "outputs": [
    {
     "data": {
      "application/vnd.plotly.v1+json": {
       "config": {
        "plotlyServerURL": "https://plot.ly"
       },
       "data": [
        {
         "orientation": "h",
         "textposition": "inside",
         "type": "funnel",
         "x": [
          7419,
          4593,
          3734,
          3539
         ],
         "y": [
          "MainScreenAppear",
          "OffersScreenAppear",
          "CartScreenAppear",
          "PaymentScreenSuccessful"
         ]
        }
       ],
       "layout": {
        "font": {
         "size": 12
        },
        "height": 500,
        "template": {
         "data": {
          "bar": [
           {
            "error_x": {
             "color": "#2a3f5f"
            },
            "error_y": {
             "color": "#2a3f5f"
            },
            "marker": {
             "line": {
              "color": "#E5ECF6",
              "width": 0.5
             },
             "pattern": {
              "fillmode": "overlay",
              "size": 10,
              "solidity": 0.2
             }
            },
            "type": "bar"
           }
          ],
          "barpolar": [
           {
            "marker": {
             "line": {
              "color": "#E5ECF6",
              "width": 0.5
             },
             "pattern": {
              "fillmode": "overlay",
              "size": 10,
              "solidity": 0.2
             }
            },
            "type": "barpolar"
           }
          ],
          "carpet": [
           {
            "aaxis": {
             "endlinecolor": "#2a3f5f",
             "gridcolor": "white",
             "linecolor": "white",
             "minorgridcolor": "white",
             "startlinecolor": "#2a3f5f"
            },
            "baxis": {
             "endlinecolor": "#2a3f5f",
             "gridcolor": "white",
             "linecolor": "white",
             "minorgridcolor": "white",
             "startlinecolor": "#2a3f5f"
            },
            "type": "carpet"
           }
          ],
          "choropleth": [
           {
            "colorbar": {
             "outlinewidth": 0,
             "ticks": ""
            },
            "type": "choropleth"
           }
          ],
          "contour": [
           {
            "colorbar": {
             "outlinewidth": 0,
             "ticks": ""
            },
            "colorscale": [
             [
              0,
              "#0d0887"
             ],
             [
              0.1111111111111111,
              "#46039f"
             ],
             [
              0.2222222222222222,
              "#7201a8"
             ],
             [
              0.3333333333333333,
              "#9c179e"
             ],
             [
              0.4444444444444444,
              "#bd3786"
             ],
             [
              0.5555555555555556,
              "#d8576b"
             ],
             [
              0.6666666666666666,
              "#ed7953"
             ],
             [
              0.7777777777777778,
              "#fb9f3a"
             ],
             [
              0.8888888888888888,
              "#fdca26"
             ],
             [
              1,
              "#f0f921"
             ]
            ],
            "type": "contour"
           }
          ],
          "contourcarpet": [
           {
            "colorbar": {
             "outlinewidth": 0,
             "ticks": ""
            },
            "type": "contourcarpet"
           }
          ],
          "heatmap": [
           {
            "colorbar": {
             "outlinewidth": 0,
             "ticks": ""
            },
            "colorscale": [
             [
              0,
              "#0d0887"
             ],
             [
              0.1111111111111111,
              "#46039f"
             ],
             [
              0.2222222222222222,
              "#7201a8"
             ],
             [
              0.3333333333333333,
              "#9c179e"
             ],
             [
              0.4444444444444444,
              "#bd3786"
             ],
             [
              0.5555555555555556,
              "#d8576b"
             ],
             [
              0.6666666666666666,
              "#ed7953"
             ],
             [
              0.7777777777777778,
              "#fb9f3a"
             ],
             [
              0.8888888888888888,
              "#fdca26"
             ],
             [
              1,
              "#f0f921"
             ]
            ],
            "type": "heatmap"
           }
          ],
          "heatmapgl": [
           {
            "colorbar": {
             "outlinewidth": 0,
             "ticks": ""
            },
            "colorscale": [
             [
              0,
              "#0d0887"
             ],
             [
              0.1111111111111111,
              "#46039f"
             ],
             [
              0.2222222222222222,
              "#7201a8"
             ],
             [
              0.3333333333333333,
              "#9c179e"
             ],
             [
              0.4444444444444444,
              "#bd3786"
             ],
             [
              0.5555555555555556,
              "#d8576b"
             ],
             [
              0.6666666666666666,
              "#ed7953"
             ],
             [
              0.7777777777777778,
              "#fb9f3a"
             ],
             [
              0.8888888888888888,
              "#fdca26"
             ],
             [
              1,
              "#f0f921"
             ]
            ],
            "type": "heatmapgl"
           }
          ],
          "histogram": [
           {
            "marker": {
             "pattern": {
              "fillmode": "overlay",
              "size": 10,
              "solidity": 0.2
             }
            },
            "type": "histogram"
           }
          ],
          "histogram2d": [
           {
            "colorbar": {
             "outlinewidth": 0,
             "ticks": ""
            },
            "colorscale": [
             [
              0,
              "#0d0887"
             ],
             [
              0.1111111111111111,
              "#46039f"
             ],
             [
              0.2222222222222222,
              "#7201a8"
             ],
             [
              0.3333333333333333,
              "#9c179e"
             ],
             [
              0.4444444444444444,
              "#bd3786"
             ],
             [
              0.5555555555555556,
              "#d8576b"
             ],
             [
              0.6666666666666666,
              "#ed7953"
             ],
             [
              0.7777777777777778,
              "#fb9f3a"
             ],
             [
              0.8888888888888888,
              "#fdca26"
             ],
             [
              1,
              "#f0f921"
             ]
            ],
            "type": "histogram2d"
           }
          ],
          "histogram2dcontour": [
           {
            "colorbar": {
             "outlinewidth": 0,
             "ticks": ""
            },
            "colorscale": [
             [
              0,
              "#0d0887"
             ],
             [
              0.1111111111111111,
              "#46039f"
             ],
             [
              0.2222222222222222,
              "#7201a8"
             ],
             [
              0.3333333333333333,
              "#9c179e"
             ],
             [
              0.4444444444444444,
              "#bd3786"
             ],
             [
              0.5555555555555556,
              "#d8576b"
             ],
             [
              0.6666666666666666,
              "#ed7953"
             ],
             [
              0.7777777777777778,
              "#fb9f3a"
             ],
             [
              0.8888888888888888,
              "#fdca26"
             ],
             [
              1,
              "#f0f921"
             ]
            ],
            "type": "histogram2dcontour"
           }
          ],
          "mesh3d": [
           {
            "colorbar": {
             "outlinewidth": 0,
             "ticks": ""
            },
            "type": "mesh3d"
           }
          ],
          "parcoords": [
           {
            "line": {
             "colorbar": {
              "outlinewidth": 0,
              "ticks": ""
             }
            },
            "type": "parcoords"
           }
          ],
          "pie": [
           {
            "automargin": true,
            "type": "pie"
           }
          ],
          "scatter": [
           {
            "fillpattern": {
             "fillmode": "overlay",
             "size": 10,
             "solidity": 0.2
            },
            "type": "scatter"
           }
          ],
          "scatter3d": [
           {
            "line": {
             "colorbar": {
              "outlinewidth": 0,
              "ticks": ""
             }
            },
            "marker": {
             "colorbar": {
              "outlinewidth": 0,
              "ticks": ""
             }
            },
            "type": "scatter3d"
           }
          ],
          "scattercarpet": [
           {
            "marker": {
             "colorbar": {
              "outlinewidth": 0,
              "ticks": ""
             }
            },
            "type": "scattercarpet"
           }
          ],
          "scattergeo": [
           {
            "marker": {
             "colorbar": {
              "outlinewidth": 0,
              "ticks": ""
             }
            },
            "type": "scattergeo"
           }
          ],
          "scattergl": [
           {
            "marker": {
             "colorbar": {
              "outlinewidth": 0,
              "ticks": ""
             }
            },
            "type": "scattergl"
           }
          ],
          "scattermapbox": [
           {
            "marker": {
             "colorbar": {
              "outlinewidth": 0,
              "ticks": ""
             }
            },
            "type": "scattermapbox"
           }
          ],
          "scatterpolar": [
           {
            "marker": {
             "colorbar": {
              "outlinewidth": 0,
              "ticks": ""
             }
            },
            "type": "scatterpolar"
           }
          ],
          "scatterpolargl": [
           {
            "marker": {
             "colorbar": {
              "outlinewidth": 0,
              "ticks": ""
             }
            },
            "type": "scatterpolargl"
           }
          ],
          "scatterternary": [
           {
            "marker": {
             "colorbar": {
              "outlinewidth": 0,
              "ticks": ""
             }
            },
            "type": "scatterternary"
           }
          ],
          "surface": [
           {
            "colorbar": {
             "outlinewidth": 0,
             "ticks": ""
            },
            "colorscale": [
             [
              0,
              "#0d0887"
             ],
             [
              0.1111111111111111,
              "#46039f"
             ],
             [
              0.2222222222222222,
              "#7201a8"
             ],
             [
              0.3333333333333333,
              "#9c179e"
             ],
             [
              0.4444444444444444,
              "#bd3786"
             ],
             [
              0.5555555555555556,
              "#d8576b"
             ],
             [
              0.6666666666666666,
              "#ed7953"
             ],
             [
              0.7777777777777778,
              "#fb9f3a"
             ],
             [
              0.8888888888888888,
              "#fdca26"
             ],
             [
              1,
              "#f0f921"
             ]
            ],
            "type": "surface"
           }
          ],
          "table": [
           {
            "cells": {
             "fill": {
              "color": "#EBF0F8"
             },
             "line": {
              "color": "white"
             }
            },
            "header": {
             "fill": {
              "color": "#C8D4E3"
             },
             "line": {
              "color": "white"
             }
            },
            "type": "table"
           }
          ]
         },
         "layout": {
          "annotationdefaults": {
           "arrowcolor": "#2a3f5f",
           "arrowhead": 0,
           "arrowwidth": 1
          },
          "autotypenumbers": "strict",
          "coloraxis": {
           "colorbar": {
            "outlinewidth": 0,
            "ticks": ""
           }
          },
          "colorscale": {
           "diverging": [
            [
             0,
             "#8e0152"
            ],
            [
             0.1,
             "#c51b7d"
            ],
            [
             0.2,
             "#de77ae"
            ],
            [
             0.3,
             "#f1b6da"
            ],
            [
             0.4,
             "#fde0ef"
            ],
            [
             0.5,
             "#f7f7f7"
            ],
            [
             0.6,
             "#e6f5d0"
            ],
            [
             0.7,
             "#b8e186"
            ],
            [
             0.8,
             "#7fbc41"
            ],
            [
             0.9,
             "#4d9221"
            ],
            [
             1,
             "#276419"
            ]
           ],
           "sequential": [
            [
             0,
             "#0d0887"
            ],
            [
             0.1111111111111111,
             "#46039f"
            ],
            [
             0.2222222222222222,
             "#7201a8"
            ],
            [
             0.3333333333333333,
             "#9c179e"
            ],
            [
             0.4444444444444444,
             "#bd3786"
            ],
            [
             0.5555555555555556,
             "#d8576b"
            ],
            [
             0.6666666666666666,
             "#ed7953"
            ],
            [
             0.7777777777777778,
             "#fb9f3a"
            ],
            [
             0.8888888888888888,
             "#fdca26"
            ],
            [
             1,
             "#f0f921"
            ]
           ],
           "sequentialminus": [
            [
             0,
             "#0d0887"
            ],
            [
             0.1111111111111111,
             "#46039f"
            ],
            [
             0.2222222222222222,
             "#7201a8"
            ],
            [
             0.3333333333333333,
             "#9c179e"
            ],
            [
             0.4444444444444444,
             "#bd3786"
            ],
            [
             0.5555555555555556,
             "#d8576b"
            ],
            [
             0.6666666666666666,
             "#ed7953"
            ],
            [
             0.7777777777777778,
             "#fb9f3a"
            ],
            [
             0.8888888888888888,
             "#fdca26"
            ],
            [
             1,
             "#f0f921"
            ]
           ]
          },
          "colorway": [
           "#636efa",
           "#EF553B",
           "#00cc96",
           "#ab63fa",
           "#FFA15A",
           "#19d3f3",
           "#FF6692",
           "#B6E880",
           "#FF97FF",
           "#FECB52"
          ],
          "font": {
           "color": "#2a3f5f"
          },
          "geo": {
           "bgcolor": "white",
           "lakecolor": "white",
           "landcolor": "#E5ECF6",
           "showlakes": true,
           "showland": true,
           "subunitcolor": "white"
          },
          "hoverlabel": {
           "align": "left"
          },
          "hovermode": "closest",
          "mapbox": {
           "style": "light"
          },
          "paper_bgcolor": "white",
          "plot_bgcolor": "#E5ECF6",
          "polar": {
           "angularaxis": {
            "gridcolor": "white",
            "linecolor": "white",
            "ticks": ""
           },
           "bgcolor": "#E5ECF6",
           "radialaxis": {
            "gridcolor": "white",
            "linecolor": "white",
            "ticks": ""
           }
          },
          "scene": {
           "xaxis": {
            "backgroundcolor": "#E5ECF6",
            "gridcolor": "white",
            "gridwidth": 2,
            "linecolor": "white",
            "showbackground": true,
            "ticks": "",
            "zerolinecolor": "white"
           },
           "yaxis": {
            "backgroundcolor": "#E5ECF6",
            "gridcolor": "white",
            "gridwidth": 2,
            "linecolor": "white",
            "showbackground": true,
            "ticks": "",
            "zerolinecolor": "white"
           },
           "zaxis": {
            "backgroundcolor": "#E5ECF6",
            "gridcolor": "white",
            "gridwidth": 2,
            "linecolor": "white",
            "showbackground": true,
            "ticks": "",
            "zerolinecolor": "white"
           }
          },
          "shapedefaults": {
           "line": {
            "color": "#2a3f5f"
           }
          },
          "ternary": {
           "aaxis": {
            "gridcolor": "white",
            "linecolor": "white",
            "ticks": ""
           },
           "baxis": {
            "gridcolor": "white",
            "linecolor": "white",
            "ticks": ""
           },
           "bgcolor": "#E5ECF6",
           "caxis": {
            "gridcolor": "white",
            "linecolor": "white",
            "ticks": ""
           }
          },
          "title": {
           "x": 0.05
          },
          "xaxis": {
           "automargin": true,
           "gridcolor": "white",
           "linecolor": "white",
           "ticks": "",
           "title": {
            "standoff": 15
           },
           "zerolinecolor": "white",
           "zerolinewidth": 2
          },
          "yaxis": {
           "automargin": true,
           "gridcolor": "white",
           "linecolor": "white",
           "ticks": "",
           "title": {
            "standoff": 15
           },
           "zerolinecolor": "white",
           "zerolinewidth": 2
          }
         }
        },
        "title": {
         "text": "Воронка событий"
        },
        "width": 1000
       }
      },
      "text/html": [
       "<div>                            <div id=\"59b9f09c-8094-4cea-b70d-647426502c7e\" class=\"plotly-graph-div\" style=\"height:500px; width:1000px;\"></div>            <script type=\"text/javascript\">                require([\"plotly\"], function(Plotly) {                    window.PLOTLYENV=window.PLOTLYENV || {};                                    if (document.getElementById(\"59b9f09c-8094-4cea-b70d-647426502c7e\")) {                    Plotly.newPlot(                        \"59b9f09c-8094-4cea-b70d-647426502c7e\",                        [{\"orientation\":\"h\",\"textposition\":\"inside\",\"x\":[7419,4593,3734,3539],\"y\":[\"MainScreenAppear\",\"OffersScreenAppear\",\"CartScreenAppear\",\"PaymentScreenSuccessful\"],\"type\":\"funnel\"}],                        {\"template\":{\"data\":{\"histogram2dcontour\":[{\"type\":\"histogram2dcontour\",\"colorbar\":{\"outlinewidth\":0,\"ticks\":\"\"},\"colorscale\":[[0.0,\"#0d0887\"],[0.1111111111111111,\"#46039f\"],[0.2222222222222222,\"#7201a8\"],[0.3333333333333333,\"#9c179e\"],[0.4444444444444444,\"#bd3786\"],[0.5555555555555556,\"#d8576b\"],[0.6666666666666666,\"#ed7953\"],[0.7777777777777778,\"#fb9f3a\"],[0.8888888888888888,\"#fdca26\"],[1.0,\"#f0f921\"]]}],\"choropleth\":[{\"type\":\"choropleth\",\"colorbar\":{\"outlinewidth\":0,\"ticks\":\"\"}}],\"histogram2d\":[{\"type\":\"histogram2d\",\"colorbar\":{\"outlinewidth\":0,\"ticks\":\"\"},\"colorscale\":[[0.0,\"#0d0887\"],[0.1111111111111111,\"#46039f\"],[0.2222222222222222,\"#7201a8\"],[0.3333333333333333,\"#9c179e\"],[0.4444444444444444,\"#bd3786\"],[0.5555555555555556,\"#d8576b\"],[0.6666666666666666,\"#ed7953\"],[0.7777777777777778,\"#fb9f3a\"],[0.8888888888888888,\"#fdca26\"],[1.0,\"#f0f921\"]]}],\"heatmap\":[{\"type\":\"heatmap\",\"colorbar\":{\"outlinewidth\":0,\"ticks\":\"\"},\"colorscale\":[[0.0,\"#0d0887\"],[0.1111111111111111,\"#46039f\"],[0.2222222222222222,\"#7201a8\"],[0.3333333333333333,\"#9c179e\"],[0.4444444444444444,\"#bd3786\"],[0.5555555555555556,\"#d8576b\"],[0.6666666666666666,\"#ed7953\"],[0.7777777777777778,\"#fb9f3a\"],[0.8888888888888888,\"#fdca26\"],[1.0,\"#f0f921\"]]}],\"heatmapgl\":[{\"type\":\"heatmapgl\",\"colorbar\":{\"outlinewidth\":0,\"ticks\":\"\"},\"colorscale\":[[0.0,\"#0d0887\"],[0.1111111111111111,\"#46039f\"],[0.2222222222222222,\"#7201a8\"],[0.3333333333333333,\"#9c179e\"],[0.4444444444444444,\"#bd3786\"],[0.5555555555555556,\"#d8576b\"],[0.6666666666666666,\"#ed7953\"],[0.7777777777777778,\"#fb9f3a\"],[0.8888888888888888,\"#fdca26\"],[1.0,\"#f0f921\"]]}],\"contourcarpet\":[{\"type\":\"contourcarpet\",\"colorbar\":{\"outlinewidth\":0,\"ticks\":\"\"}}],\"contour\":[{\"type\":\"contour\",\"colorbar\":{\"outlinewidth\":0,\"ticks\":\"\"},\"colorscale\":[[0.0,\"#0d0887\"],[0.1111111111111111,\"#46039f\"],[0.2222222222222222,\"#7201a8\"],[0.3333333333333333,\"#9c179e\"],[0.4444444444444444,\"#bd3786\"],[0.5555555555555556,\"#d8576b\"],[0.6666666666666666,\"#ed7953\"],[0.7777777777777778,\"#fb9f3a\"],[0.8888888888888888,\"#fdca26\"],[1.0,\"#f0f921\"]]}],\"surface\":[{\"type\":\"surface\",\"colorbar\":{\"outlinewidth\":0,\"ticks\":\"\"},\"colorscale\":[[0.0,\"#0d0887\"],[0.1111111111111111,\"#46039f\"],[0.2222222222222222,\"#7201a8\"],[0.3333333333333333,\"#9c179e\"],[0.4444444444444444,\"#bd3786\"],[0.5555555555555556,\"#d8576b\"],[0.6666666666666666,\"#ed7953\"],[0.7777777777777778,\"#fb9f3a\"],[0.8888888888888888,\"#fdca26\"],[1.0,\"#f0f921\"]]}],\"mesh3d\":[{\"type\":\"mesh3d\",\"colorbar\":{\"outlinewidth\":0,\"ticks\":\"\"}}],\"scatter\":[{\"fillpattern\":{\"fillmode\":\"overlay\",\"size\":10,\"solidity\":0.2},\"type\":\"scatter\"}],\"parcoords\":[{\"type\":\"parcoords\",\"line\":{\"colorbar\":{\"outlinewidth\":0,\"ticks\":\"\"}}}],\"scatterpolargl\":[{\"type\":\"scatterpolargl\",\"marker\":{\"colorbar\":{\"outlinewidth\":0,\"ticks\":\"\"}}}],\"bar\":[{\"error_x\":{\"color\":\"#2a3f5f\"},\"error_y\":{\"color\":\"#2a3f5f\"},\"marker\":{\"line\":{\"color\":\"#E5ECF6\",\"width\":0.5},\"pattern\":{\"fillmode\":\"overlay\",\"size\":10,\"solidity\":0.2}},\"type\":\"bar\"}],\"scattergeo\":[{\"type\":\"scattergeo\",\"marker\":{\"colorbar\":{\"outlinewidth\":0,\"ticks\":\"\"}}}],\"scatterpolar\":[{\"type\":\"scatterpolar\",\"marker\":{\"colorbar\":{\"outlinewidth\":0,\"ticks\":\"\"}}}],\"histogram\":[{\"marker\":{\"pattern\":{\"fillmode\":\"overlay\",\"size\":10,\"solidity\":0.2}},\"type\":\"histogram\"}],\"scattergl\":[{\"type\":\"scattergl\",\"marker\":{\"colorbar\":{\"outlinewidth\":0,\"ticks\":\"\"}}}],\"scatter3d\":[{\"type\":\"scatter3d\",\"line\":{\"colorbar\":{\"outlinewidth\":0,\"ticks\":\"\"}},\"marker\":{\"colorbar\":{\"outlinewidth\":0,\"ticks\":\"\"}}}],\"scattermapbox\":[{\"type\":\"scattermapbox\",\"marker\":{\"colorbar\":{\"outlinewidth\":0,\"ticks\":\"\"}}}],\"scatterternary\":[{\"type\":\"scatterternary\",\"marker\":{\"colorbar\":{\"outlinewidth\":0,\"ticks\":\"\"}}}],\"scattercarpet\":[{\"type\":\"scattercarpet\",\"marker\":{\"colorbar\":{\"outlinewidth\":0,\"ticks\":\"\"}}}],\"carpet\":[{\"aaxis\":{\"endlinecolor\":\"#2a3f5f\",\"gridcolor\":\"white\",\"linecolor\":\"white\",\"minorgridcolor\":\"white\",\"startlinecolor\":\"#2a3f5f\"},\"baxis\":{\"endlinecolor\":\"#2a3f5f\",\"gridcolor\":\"white\",\"linecolor\":\"white\",\"minorgridcolor\":\"white\",\"startlinecolor\":\"#2a3f5f\"},\"type\":\"carpet\"}],\"table\":[{\"cells\":{\"fill\":{\"color\":\"#EBF0F8\"},\"line\":{\"color\":\"white\"}},\"header\":{\"fill\":{\"color\":\"#C8D4E3\"},\"line\":{\"color\":\"white\"}},\"type\":\"table\"}],\"barpolar\":[{\"marker\":{\"line\":{\"color\":\"#E5ECF6\",\"width\":0.5},\"pattern\":{\"fillmode\":\"overlay\",\"size\":10,\"solidity\":0.2}},\"type\":\"barpolar\"}],\"pie\":[{\"automargin\":true,\"type\":\"pie\"}]},\"layout\":{\"autotypenumbers\":\"strict\",\"colorway\":[\"#636efa\",\"#EF553B\",\"#00cc96\",\"#ab63fa\",\"#FFA15A\",\"#19d3f3\",\"#FF6692\",\"#B6E880\",\"#FF97FF\",\"#FECB52\"],\"font\":{\"color\":\"#2a3f5f\"},\"hovermode\":\"closest\",\"hoverlabel\":{\"align\":\"left\"},\"paper_bgcolor\":\"white\",\"plot_bgcolor\":\"#E5ECF6\",\"polar\":{\"bgcolor\":\"#E5ECF6\",\"angularaxis\":{\"gridcolor\":\"white\",\"linecolor\":\"white\",\"ticks\":\"\"},\"radialaxis\":{\"gridcolor\":\"white\",\"linecolor\":\"white\",\"ticks\":\"\"}},\"ternary\":{\"bgcolor\":\"#E5ECF6\",\"aaxis\":{\"gridcolor\":\"white\",\"linecolor\":\"white\",\"ticks\":\"\"},\"baxis\":{\"gridcolor\":\"white\",\"linecolor\":\"white\",\"ticks\":\"\"},\"caxis\":{\"gridcolor\":\"white\",\"linecolor\":\"white\",\"ticks\":\"\"}},\"coloraxis\":{\"colorbar\":{\"outlinewidth\":0,\"ticks\":\"\"}},\"colorscale\":{\"sequential\":[[0.0,\"#0d0887\"],[0.1111111111111111,\"#46039f\"],[0.2222222222222222,\"#7201a8\"],[0.3333333333333333,\"#9c179e\"],[0.4444444444444444,\"#bd3786\"],[0.5555555555555556,\"#d8576b\"],[0.6666666666666666,\"#ed7953\"],[0.7777777777777778,\"#fb9f3a\"],[0.8888888888888888,\"#fdca26\"],[1.0,\"#f0f921\"]],\"sequentialminus\":[[0.0,\"#0d0887\"],[0.1111111111111111,\"#46039f\"],[0.2222222222222222,\"#7201a8\"],[0.3333333333333333,\"#9c179e\"],[0.4444444444444444,\"#bd3786\"],[0.5555555555555556,\"#d8576b\"],[0.6666666666666666,\"#ed7953\"],[0.7777777777777778,\"#fb9f3a\"],[0.8888888888888888,\"#fdca26\"],[1.0,\"#f0f921\"]],\"diverging\":[[0,\"#8e0152\"],[0.1,\"#c51b7d\"],[0.2,\"#de77ae\"],[0.3,\"#f1b6da\"],[0.4,\"#fde0ef\"],[0.5,\"#f7f7f7\"],[0.6,\"#e6f5d0\"],[0.7,\"#b8e186\"],[0.8,\"#7fbc41\"],[0.9,\"#4d9221\"],[1,\"#276419\"]]},\"xaxis\":{\"gridcolor\":\"white\",\"linecolor\":\"white\",\"ticks\":\"\",\"title\":{\"standoff\":15},\"zerolinecolor\":\"white\",\"automargin\":true,\"zerolinewidth\":2},\"yaxis\":{\"gridcolor\":\"white\",\"linecolor\":\"white\",\"ticks\":\"\",\"title\":{\"standoff\":15},\"zerolinecolor\":\"white\",\"automargin\":true,\"zerolinewidth\":2},\"scene\":{\"xaxis\":{\"backgroundcolor\":\"#E5ECF6\",\"gridcolor\":\"white\",\"linecolor\":\"white\",\"showbackground\":true,\"ticks\":\"\",\"zerolinecolor\":\"white\",\"gridwidth\":2},\"yaxis\":{\"backgroundcolor\":\"#E5ECF6\",\"gridcolor\":\"white\",\"linecolor\":\"white\",\"showbackground\":true,\"ticks\":\"\",\"zerolinecolor\":\"white\",\"gridwidth\":2},\"zaxis\":{\"backgroundcolor\":\"#E5ECF6\",\"gridcolor\":\"white\",\"linecolor\":\"white\",\"showbackground\":true,\"ticks\":\"\",\"zerolinecolor\":\"white\",\"gridwidth\":2}},\"shapedefaults\":{\"line\":{\"color\":\"#2a3f5f\"}},\"annotationdefaults\":{\"arrowcolor\":\"#2a3f5f\",\"arrowhead\":0,\"arrowwidth\":1},\"geo\":{\"bgcolor\":\"white\",\"landcolor\":\"#E5ECF6\",\"subunitcolor\":\"white\",\"showland\":true,\"showlakes\":true,\"lakecolor\":\"white\"},\"title\":{\"x\":0.05},\"mapbox\":{\"style\":\"light\"}}},\"font\":{\"size\":12},\"title\":{\"text\":\"\\u0412\\u043e\\u0440\\u043e\\u043d\\u043a\\u0430 \\u0441\\u043e\\u0431\\u044b\\u0442\\u0438\\u0439\"},\"width\":1000,\"height\":500},                        {\"responsive\": true}                    ).then(function(){\n",
       "                            \n",
       "var gd = document.getElementById('59b9f09c-8094-4cea-b70d-647426502c7e');\n",
       "var x = new MutationObserver(function (mutations, observer) {{\n",
       "        var display = window.getComputedStyle(gd).display;\n",
       "        if (!display || display === 'none') {{\n",
       "            console.log([gd, 'removed!']);\n",
       "            Plotly.purge(gd);\n",
       "            observer.disconnect();\n",
       "        }}\n",
       "}});\n",
       "\n",
       "// Listen for the removal of the full notebook cells\n",
       "var notebookContainer = gd.closest('#notebook-container');\n",
       "if (notebookContainer) {{\n",
       "    x.observe(notebookContainer, {childList: true});\n",
       "}}\n",
       "\n",
       "// Listen for the clearing of the current output cell\n",
       "var outputEl = gd.closest('.output');\n",
       "if (outputEl) {{\n",
       "    x.observe(outputEl, {childList: true});\n",
       "}}\n",
       "\n",
       "                        })                };                });            </script>        </div>"
      ]
     },
     "metadata": {},
     "output_type": "display_data"
    }
   ],
   "source": [
    "filtered_data = event_user[event_user['event_name'] != 'Tutorial']\n",
    "\n",
    "fig2 = go.Figure(go.Funnel(\n",
    "    x=filtered_data['user_cnt'],\n",
    "    y=filtered_data['event_name'],\n",
    "    orientation='h',\n",
    "    textposition=\"inside\",\n",
    "    \n",
    "))\n",
    "fig2.update_layout(\n",
    "    title=\"Воронка событий\",\n",
    "    font=dict(size=12),\n",
    "    width=1000,\n",
    "    height=500)\n",
    "\n",
    "fig2.show()"
   ]
  },
  {
   "cell_type": "markdown",
   "metadata": {},
   "source": [
    "#### Вывод по разделу"
   ]
  },
  {
   "cell_type": "markdown",
   "metadata": {},
   "source": [
    "Изучили воронки. Видим, что не все пользователи заходят на главный экран ( возможно есть вариант перехода к другим этапам минуя его) \\\n",
    "До покупки доходит всего 47%. \n",
    "\n",
    "Так же видим, что страницу с инструкцией посещают крайне редко. Возможно к ней обращаются только в каких-то сложных случчаях.\n",
    "\n",
    "Предположительный порядок этапов и детализация по событиям:\n",
    "\n",
    "Главная страница - событий - 117328, пользователей - 7419 \\\n",
    "Страница с предложениями - событий - 46333, пользователей - 4593 \\\n",
    "Корзина - событий - 42303, пользователей - 3734 \\\n",
    "Оплата - событий - 33918, пользователей - 3539 \\\n",
    "\n",
    "Страница с Инструкцией - событий - 1005, пользователей  - 840 - ее посещают очень мало клиентов. Из этого можно сделать вывод, что вероятно она не обязательная.\n",
    "\n"
   ]
  },
  {
   "cell_type": "markdown",
   "metadata": {},
   "source": [
    "### Изучим результаты эксперимента"
   ]
  },
  {
   "cell_type": "markdown",
   "metadata": {},
   "source": [
    "Посчитаем сколько событий в каждой группе"
   ]
  },
  {
   "cell_type": "code",
   "execution_count": 63,
   "metadata": {
    "scrolled": true
   },
   "outputs": [
    {
     "data": {
      "text/plain": [
       "248    84563\n",
       "246    79302\n",
       "247    77022\n",
       "Name: exp_id, dtype: int64"
      ]
     },
     "execution_count": 63,
     "metadata": {},
     "output_type": "execute_result"
    }
   ],
   "source": [
    "new['exp_id'].value_counts()"
   ]
  },
  {
   "cell_type": "markdown",
   "metadata": {},
   "source": [
    "Посчитаем кол-во клиентов в каждой группе"
   ]
  },
  {
   "cell_type": "code",
   "execution_count": 64,
   "metadata": {},
   "outputs": [
    {
     "data": {
      "text/plain": [
       "exp_id\n",
       "248    2537\n",
       "247    2513\n",
       "246    2484\n",
       "Name: device_idhash, dtype: int64"
      ]
     },
     "execution_count": 64,
     "metadata": {},
     "output_type": "execute_result"
    }
   ],
   "source": [
    "new.groupby('exp_id')['device_idhash'].nunique().sort_values(ascending=False)"
   ]
  },
  {
   "cell_type": "markdown",
   "metadata": {},
   "source": [
    "Явной разницы по кол-ву между группами не наблюдается, но больше всего пользователей в экспериментальной группе"
   ]
  },
  {
   "cell_type": "markdown",
   "metadata": {},
   "source": [
    "Проверим, что пользователи в группах не повторяются"
   ]
  },
  {
   "cell_type": "code",
   "execution_count": 65,
   "metadata": {},
   "outputs": [
    {
     "name": "stdout",
     "output_type": "stream",
     "text": [
      "Повторяющиеся пользователи в группах: 0\n"
     ]
    }
   ],
   "source": [
    "user_group_counts = new.groupby('device_idhash')['exp_id'].nunique()\n",
    "users_in_group = user_group_counts[user_group_counts > 1].index.tolist()\n",
    "print(f\"Повторяющиеся пользователи в группах: {len(users_in_group)}\")"
   ]
  },
  {
   "cell_type": "markdown",
   "metadata": {},
   "source": [
    "Создадим функцию, которая сгруппирует данные по воронке и кол-ву пользователей"
   ]
  },
  {
   "cell_type": "code",
   "execution_count": 66,
   "metadata": {},
   "outputs": [],
   "source": [
    "def event_group_piv(group):\n",
    "    result = (\n",
    "        new\n",
    "        .query('exp_id == @group and event_name != \"Tutorial\"')\n",
    "        .groupby('event_name')\n",
    "        .agg(device_count=('device_idhash', 'nunique'))\n",
    "        .sort_values(by='device_count', ascending=False)\n",
    "        .reset_index()\n",
    "    )\n",
    "    return result\n",
    "\n",
    "#функция, которая будет счиатть долю пользователей\n",
    "def event_group_per_us(df):\n",
    "    unique_devices = new['device_idhash'].nunique()\n",
    "    df['ratio'] = round((df['device_count'] / unique_devices), 3)"
   ]
  },
  {
   "cell_type": "markdown",
   "metadata": {},
   "source": [
    "Создадим сводную таблицу для каждой группы"
   ]
  },
  {
   "cell_type": "code",
   "execution_count": 67,
   "metadata": {},
   "outputs": [],
   "source": [
    "event_246_pivot = event_group_piv(246)\n",
    "event_group_per_us(event_246_pivot)\n",
    "event_246_pivot.columns = ['event_name', '246', '246_per_us']\n",
    "\n",
    "event_247_pivot = event_group_piv(247)\n",
    "event_group_per_us(event_247_pivot)\n",
    "event_247_pivot.columns = ['event_name', '247', '247_per_us']\n",
    "\n",
    "event_248_pivot = event_group_piv(248)\n",
    "event_group_per_us(event_248_pivot)\n",
    "event_248_pivot.columns = ['event_name', '248', '248_per_us']"
   ]
  },
  {
   "cell_type": "markdown",
   "metadata": {},
   "source": [
    "Объеленим три таблицы в одну"
   ]
  },
  {
   "cell_type": "code",
   "execution_count": 68,
   "metadata": {},
   "outputs": [
    {
     "data": {
      "text/html": [
       "<div>\n",
       "<style scoped>\n",
       "    .dataframe tbody tr th:only-of-type {\n",
       "        vertical-align: middle;\n",
       "    }\n",
       "\n",
       "    .dataframe tbody tr th {\n",
       "        vertical-align: top;\n",
       "    }\n",
       "\n",
       "    .dataframe thead th {\n",
       "        text-align: right;\n",
       "    }\n",
       "</style>\n",
       "<table border=\"1\" class=\"dataframe\">\n",
       "  <thead>\n",
       "    <tr style=\"text-align: right;\">\n",
       "      <th></th>\n",
       "      <th>event_name</th>\n",
       "      <th>246</th>\n",
       "      <th>246_per_us</th>\n",
       "      <th>247</th>\n",
       "      <th>247_per_us</th>\n",
       "      <th>248</th>\n",
       "      <th>248_per_us</th>\n",
       "    </tr>\n",
       "  </thead>\n",
       "  <tbody>\n",
       "    <tr>\n",
       "      <th>0</th>\n",
       "      <td>MainScreenAppear</td>\n",
       "      <td>2450</td>\n",
       "      <td>0.325</td>\n",
       "      <td>2476</td>\n",
       "      <td>0.329</td>\n",
       "      <td>2493</td>\n",
       "      <td>0.331</td>\n",
       "    </tr>\n",
       "    <tr>\n",
       "      <th>1</th>\n",
       "      <td>OffersScreenAppear</td>\n",
       "      <td>1542</td>\n",
       "      <td>0.205</td>\n",
       "      <td>1520</td>\n",
       "      <td>0.202</td>\n",
       "      <td>1531</td>\n",
       "      <td>0.203</td>\n",
       "    </tr>\n",
       "    <tr>\n",
       "      <th>2</th>\n",
       "      <td>CartScreenAppear</td>\n",
       "      <td>1266</td>\n",
       "      <td>0.168</td>\n",
       "      <td>1238</td>\n",
       "      <td>0.164</td>\n",
       "      <td>1230</td>\n",
       "      <td>0.163</td>\n",
       "    </tr>\n",
       "    <tr>\n",
       "      <th>3</th>\n",
       "      <td>PaymentScreenSuccessful</td>\n",
       "      <td>1200</td>\n",
       "      <td>0.159</td>\n",
       "      <td>1158</td>\n",
       "      <td>0.154</td>\n",
       "      <td>1181</td>\n",
       "      <td>0.157</td>\n",
       "    </tr>\n",
       "  </tbody>\n",
       "</table>\n",
       "</div>"
      ],
      "text/plain": [
       "                event_name   246  246_per_us   247  247_per_us   248  \\\n",
       "0         MainScreenAppear  2450       0.325  2476       0.329  2493   \n",
       "1       OffersScreenAppear  1542       0.205  1520       0.202  1531   \n",
       "2         CartScreenAppear  1266       0.168  1238       0.164  1230   \n",
       "3  PaymentScreenSuccessful  1200       0.159  1158       0.154  1181   \n",
       "\n",
       "   248_per_us  \n",
       "0       0.331  \n",
       "1       0.203  \n",
       "2       0.163  \n",
       "3       0.157  "
      ]
     },
     "execution_count": 68,
     "metadata": {},
     "output_type": "execute_result"
    }
   ],
   "source": [
    "event_group_pivot = (\n",
    "    event_246_pivot\n",
    "    .merge(event_247_pivot, on='event_name')\n",
    "    .merge(event_248_pivot, on='event_name')\n",
    "    )\n",
    "\n",
    "event_group_pivot"
   ]
  },
  {
   "cell_type": "markdown",
   "metadata": {},
   "source": [
    "Группы почти не различаются между собой"
   ]
  },
  {
   "cell_type": "markdown",
   "metadata": {},
   "source": [
    "#### Проверим, находят ли статистические критерии разницу между выборками 246 и 247."
   ]
  },
  {
   "cell_type": "markdown",
   "metadata": {},
   "source": [
    "Сформулируем гипотезы \\\n",
    "Н0 - доли пользователей, побывавших на этапе воронки равны \\\n",
    "Н1 - доли пользователей, побывавших на этапе воронки не равны \\\n",
    "Уровень значимости для А/А теста - 0,01"
   ]
  },
  {
   "cell_type": "markdown",
   "metadata": {},
   "source": [
    "Создаем функцию для проведения z-теста"
   ]
  },
  {
   "cell_type": "code",
   "execution_count": 69,
   "metadata": {},
   "outputs": [],
   "source": [
    "def z_test(exp_group_1, exp_group_2, event, alpha):\n",
    "    \n",
    "    alpha = alpha\n",
    "    g1 = new.query('exp_id == @exp_group_1')\n",
    "    g2 = new.query('exp_id == @exp_group_2')\n",
    "\n",
    "    successes = np.array([event_group_pivot.query('event_name == @event')[str(exp_group_1)].sum(),\n",
    "                          event_group_pivot.query('event_name == @event')[str(exp_group_2)].sum()])\n",
    "    trials = np.array([len(g1['device_idhash'].unique()), len(g2['device_idhash'].unique())])\n",
    "    \n",
    "    p1 = successes[0]/trials[0]\n",
    "    p2 = successes[1]/trials[1]\n",
    "    p_combined = (successes[0] + successes[1]) / (trials[0] + trials[1])\n",
    "    \n",
    "    difference = p1 - p2\n",
    "    z_value = difference / math.sqrt(p_combined * (1 - p_combined) * (1/trials[0] + 1/trials[1]))\n",
    "    distr = st.norm(0, 1)\n",
    "    \n",
    "    p_value = (1 - distr.cdf(abs(z_value))) * 2\n",
    "    \n",
    "    print('p-значение: ', round(p_value, 4))\n",
    "    if (p_value < alpha):\n",
    "        print('Отвергаем нулевую гипотезу: между долями есть значимая разница')\n",
    "    else:\n",
    "        print('Не получилось отвергнуть нулевую гипотезу')"
   ]
  },
  {
   "cell_type": "code",
   "execution_count": 70,
   "metadata": {},
   "outputs": [
    {
     "name": "stdout",
     "output_type": "stream",
     "text": [
      "p-значение:  0.7571\n",
      "Не получилось отвергнуть нулевую гипотезу\n"
     ]
    }
   ],
   "source": [
    "z_test(246, 247, 'MainScreenAppear', 0.01)"
   ]
  },
  {
   "cell_type": "code",
   "execution_count": 71,
   "metadata": {},
   "outputs": [
    {
     "name": "stdout",
     "output_type": "stream",
     "text": [
      "p-значение:  0.2481\n",
      "Не получилось отвергнуть нулевую гипотезу\n"
     ]
    }
   ],
   "source": [
    "z_test(246, 247, 'OffersScreenAppear', 0.01)"
   ]
  },
  {
   "cell_type": "code",
   "execution_count": 72,
   "metadata": {},
   "outputs": [
    {
     "name": "stdout",
     "output_type": "stream",
     "text": [
      "p-значение:  0.2288\n",
      "Не получилось отвергнуть нулевую гипотезу\n"
     ]
    }
   ],
   "source": [
    "z_test(246, 247, 'CartScreenAppear', 0.01)"
   ]
  },
  {
   "cell_type": "code",
   "execution_count": 73,
   "metadata": {},
   "outputs": [
    {
     "name": "stdout",
     "output_type": "stream",
     "text": [
      "p-значение:  0.1146\n",
      "Не получилось отвергнуть нулевую гипотезу\n"
     ]
    }
   ],
   "source": [
    "z_test(246, 247, 'PaymentScreenSuccessful', 0.01)"
   ]
  },
  {
   "cell_type": "markdown",
   "metadata": {},
   "source": [
    "Вывод: результаты А/А теста показали, что разделение на группы корректно"
   ]
  },
  {
   "cell_type": "markdown",
   "metadata": {},
   "source": [
    "#### A/B тест"
   ]
  },
  {
   "cell_type": "markdown",
   "metadata": {},
   "source": [
    "Добавим в свобдную таблицу стобец в котором будет сумма посетителей из А/А групп"
   ]
  },
  {
   "cell_type": "code",
   "execution_count": 74,
   "metadata": {},
   "outputs": [
    {
     "data": {
      "text/html": [
       "<div>\n",
       "<style scoped>\n",
       "    .dataframe tbody tr th:only-of-type {\n",
       "        vertical-align: middle;\n",
       "    }\n",
       "\n",
       "    .dataframe tbody tr th {\n",
       "        vertical-align: top;\n",
       "    }\n",
       "\n",
       "    .dataframe thead th {\n",
       "        text-align: right;\n",
       "    }\n",
       "</style>\n",
       "<table border=\"1\" class=\"dataframe\">\n",
       "  <thead>\n",
       "    <tr style=\"text-align: right;\">\n",
       "      <th></th>\n",
       "      <th>event_name</th>\n",
       "      <th>246</th>\n",
       "      <th>246_per_us</th>\n",
       "      <th>247</th>\n",
       "      <th>247_per_us</th>\n",
       "      <th>248</th>\n",
       "      <th>248_per_us</th>\n",
       "      <th>246&amp;247</th>\n",
       "    </tr>\n",
       "  </thead>\n",
       "  <tbody>\n",
       "    <tr>\n",
       "      <th>0</th>\n",
       "      <td>MainScreenAppear</td>\n",
       "      <td>2450</td>\n",
       "      <td>0.325</td>\n",
       "      <td>2476</td>\n",
       "      <td>0.329</td>\n",
       "      <td>2493</td>\n",
       "      <td>0.331</td>\n",
       "      <td>4926</td>\n",
       "    </tr>\n",
       "    <tr>\n",
       "      <th>1</th>\n",
       "      <td>OffersScreenAppear</td>\n",
       "      <td>1542</td>\n",
       "      <td>0.205</td>\n",
       "      <td>1520</td>\n",
       "      <td>0.202</td>\n",
       "      <td>1531</td>\n",
       "      <td>0.203</td>\n",
       "      <td>3062</td>\n",
       "    </tr>\n",
       "    <tr>\n",
       "      <th>2</th>\n",
       "      <td>CartScreenAppear</td>\n",
       "      <td>1266</td>\n",
       "      <td>0.168</td>\n",
       "      <td>1238</td>\n",
       "      <td>0.164</td>\n",
       "      <td>1230</td>\n",
       "      <td>0.163</td>\n",
       "      <td>2504</td>\n",
       "    </tr>\n",
       "    <tr>\n",
       "      <th>3</th>\n",
       "      <td>PaymentScreenSuccessful</td>\n",
       "      <td>1200</td>\n",
       "      <td>0.159</td>\n",
       "      <td>1158</td>\n",
       "      <td>0.154</td>\n",
       "      <td>1181</td>\n",
       "      <td>0.157</td>\n",
       "      <td>2358</td>\n",
       "    </tr>\n",
       "  </tbody>\n",
       "</table>\n",
       "</div>"
      ],
      "text/plain": [
       "                event_name   246  246_per_us   247  247_per_us   248  \\\n",
       "0         MainScreenAppear  2450       0.325  2476       0.329  2493   \n",
       "1       OffersScreenAppear  1542       0.205  1520       0.202  1531   \n",
       "2         CartScreenAppear  1266       0.168  1238       0.164  1230   \n",
       "3  PaymentScreenSuccessful  1200       0.159  1158       0.154  1181   \n",
       "\n",
       "   248_per_us  246&247  \n",
       "0       0.331     4926  \n",
       "1       0.203     3062  \n",
       "2       0.163     2504  \n",
       "3       0.157     2358  "
      ]
     },
     "execution_count": 74,
     "metadata": {},
     "output_type": "execute_result"
    }
   ],
   "source": [
    "event_group_pivot['246&247'] = (event_group_pivot['246'] + event_group_pivot['247'])\n",
    "event_group_pivot['246&247'] = event_group_pivot['246&247'].astype('int')\n",
    "event_group_pivot"
   ]
  },
  {
   "cell_type": "markdown",
   "metadata": {},
   "source": [
    "Создадим функцию для сравнения с объедененной группой"
   ]
  },
  {
   "cell_type": "code",
   "execution_count": 75,
   "metadata": {},
   "outputs": [],
   "source": [
    "def z_test_uni(exp_group_2, event, alpha):\n",
    "    \n",
    "    alpha=alpha\n",
    "    g1 = new.query('exp_id == 246 | exp_id == 247')\n",
    "    g2 = new.query('exp_id == @exp_group_2')\n",
    "\n",
    "    successes = np.array([event_group_pivot.query('event_name == @event')['246&247'].sum(),\n",
    "                          event_group_pivot.query('event_name == @event')[str(exp_group_2)].sum()])\n",
    "    trials = np.array([len(g1['device_idhash'].unique()), len(g2['device_idhash'].unique())])\n",
    "    \n",
    "    p1 = successes[0]/trials[0]\n",
    "    p2 = successes[1]/trials[1]\n",
    "    p_combined = (successes[0] + successes[1]) / (trials[0] + trials[1])\n",
    "    \n",
    "    difference = p1 - p2\n",
    "    \n",
    "    z_value = difference / math.sqrt(p_combined * (1 - p_combined) * (1/trials[0] + 1/trials[1]))\n",
    "    distr = st.norm(0, 1)\n",
    "    p_value = (1 - distr.cdf(abs(z_value))) * 2\n",
    "    \n",
    "    print('p-значение: ', round(p_value, 4))\n",
    "    if (p_value < alpha):\n",
    "        print('Отвергаем нулевую гипотезу: между долями есть значимая разница')\n",
    "    else:\n",
    "        print('Не получилось отвергнуть нулевую гипотезу.')"
   ]
  },
  {
   "cell_type": "markdown",
   "metadata": {},
   "source": [
    "Дальше будем проводить тест с каждой группой тестовой и с объединенной"
   ]
  },
  {
   "cell_type": "markdown",
   "metadata": {},
   "source": [
    "Главный экран"
   ]
  },
  {
   "cell_type": "code",
   "execution_count": 76,
   "metadata": {},
   "outputs": [
    {
     "name": "stdout",
     "output_type": "stream",
     "text": [
      "p-значение:  0.295\n",
      "Не получилось отвергнуть нулевую гипотезу\n",
      "p-значение:  0.4587\n",
      "Не получилось отвергнуть нулевую гипотезу\n",
      "p-значение:  0.2942\n",
      "Не получилось отвергнуть нулевую гипотезу.\n"
     ]
    }
   ],
   "source": [
    "z_test(246, 248, 'MainScreenAppear', 0.01) \n",
    "z_test(247, 248, 'MainScreenAppear', 0.01)\n",
    "z_test_uni(248, 'MainScreenAppear', 0.01)"
   ]
  },
  {
   "cell_type": "markdown",
   "metadata": {},
   "source": [
    "На данном шаге доли одинаковые"
   ]
  },
  {
   "cell_type": "code",
   "execution_count": 77,
   "metadata": {},
   "outputs": [
    {
     "name": "stdout",
     "output_type": "stream",
     "text": [
      "p-значение:  0.2084\n",
      "Не получилось отвергнуть нулевую гипотезу\n",
      "p-значение:  0.9198\n",
      "Не получилось отвергнуть нулевую гипотезу\n",
      "p-значение:  0.4343\n",
      "Не получилось отвергнуть нулевую гипотезу.\n"
     ]
    }
   ],
   "source": [
    "z_test(246, 248, 'OffersScreenAppear', 0.01)\n",
    "z_test(247, 248, 'OffersScreenAppear', 0.01)\n",
    "z_test_uni(248, 'OffersScreenAppear', 0.01)"
   ]
  },
  {
   "cell_type": "markdown",
   "metadata": {},
   "source": [
    "На данном шаге доли одинаковые"
   ]
  },
  {
   "cell_type": "code",
   "execution_count": 78,
   "metadata": {},
   "outputs": [
    {
     "name": "stdout",
     "output_type": "stream",
     "text": [
      "p-значение:  0.0784\n",
      "Не получилось отвергнуть нулевую гипотезу\n",
      "p-значение:  0.5786\n",
      "Не получилось отвергнуть нулевую гипотезу\n",
      "p-значение:  0.1818\n",
      "Не получилось отвергнуть нулевую гипотезу.\n"
     ]
    }
   ],
   "source": [
    "z_test(246, 248, 'CartScreenAppear', 0.01)\n",
    "z_test(247, 248, 'CartScreenAppear', 0.01)\n",
    "z_test_uni(248, 'CartScreenAppear', 0.01)"
   ]
  },
  {
   "cell_type": "markdown",
   "metadata": {},
   "source": [
    "На данном шаге доли одинаковые"
   ]
  },
  {
   "cell_type": "code",
   "execution_count": 79,
   "metadata": {},
   "outputs": [
    {
     "name": "stdout",
     "output_type": "stream",
     "text": [
      "p-значение:  0.2123\n",
      "Не получилось отвергнуть нулевую гипотезу\n",
      "p-значение:  0.7373\n",
      "Не получилось отвергнуть нулевую гипотезу\n",
      "p-значение:  0.6004\n",
      "Не получилось отвергнуть нулевую гипотезу.\n"
     ]
    }
   ],
   "source": [
    "z_test(246, 248, 'PaymentScreenSuccessful', 0.01)\n",
    "z_test(247, 248, 'PaymentScreenSuccessful', 0.01)\n",
    "z_test_uni(248, 'PaymentScreenSuccessful', 0.01)"
   ]
  },
  {
   "cell_type": "markdown",
   "metadata": {},
   "source": [
    "И на этом этапе так же доли одинаковые"
   ]
  },
  {
   "cell_type": "markdown",
   "metadata": {},
   "source": [
    "#### Вывод"
   ]
  },
  {
   "cell_type": "markdown",
   "metadata": {},
   "source": [
    "1) По результатам А/А теста мы можем судить, что выборки созданы верно \\\n",
    "2) По результатам проверки А/В теста мы можем говорить о том, что изминения в оформлении не оказали значимого влияния на поведение пользователей"
   ]
  },
  {
   "cell_type": "markdown",
   "metadata": {},
   "source": [
    "### Вывод"
   ]
  },
  {
   "cell_type": "markdown",
   "metadata": {},
   "source": [
    "В ходе работы было проведено следующее:\n",
    "    \n",
    "1) Изучили воронку продаж.\n",
    "\n",
    "Видим, что не все пользователи заходят на главный экран ( возможно есть вариант перехода к другим этапам минуя его)\n",
    "До покупки доходит всего 47%.\n",
    "\n",
    "Так же видим, что страницу с инструкцией посещают крайне редко. Возможно к ней обращаются только в каких-то сложных случчаях.\n",
    "\n",
    "Предположительный порядок этапов и детализация по событиям:\n",
    "\n",
    "Главная страница - событий - 117328, пользователей - 7419\n",
    "Страница с предложениями - событий - 46333, пользователей - 4593\n",
    "Корзина - событий - 42303, пользователей - 3734\n",
    "Оплата - событий - 33918, пользователей - 3539\n",
    "Инструкция - событий - 1005, пользователей - 840\n",
    "\n",
    "2) После этого исследовли результаты A/A/B-эксперимента. Анализ результатов А/А теста показал, что разделение на группы корректно. Так как группы не имеют между собой статистически значимой разницы. В дальнейшем было проведено сравнение экспериментальной группы с каждой группой А/А теста, а также совмещенной группой. Результаты показали отсутствие статичстической разницы. \n",
    "\n",
    "По итогам исследования можем сделать следующие выводы\n",
    "На сайте есть проблемы с удобством пользования страницой с предложениями, так как конверсия в следующий шаг на этой странице составляет всего 61,9%. Это приводит к значительному оттоку пользователей.\n",
    "\n",
    "По итогам A/B теста сделали вывод о том, что изменение шрифтов на сайте не оказало значительного влияния на поведение пользователей.\n",
    "\n",
    "\n",
    "\n"
   ]
  }
 ],
 "metadata": {
  "ExecuteTimeLog": [
   {
    "duration": 930,
    "start_time": "2023-09-14T13:42:07.903Z"
   },
   {
    "duration": 894,
    "start_time": "2023-09-14T13:42:39.689Z"
   },
   {
    "duration": 14,
    "start_time": "2023-09-14T13:43:02.475Z"
   },
   {
    "duration": 146,
    "start_time": "2023-09-14T13:43:09.505Z"
   },
   {
    "duration": 30,
    "start_time": "2023-09-14T13:43:14.465Z"
   },
   {
    "duration": 64,
    "start_time": "2023-09-14T13:44:53.475Z"
   },
   {
    "duration": 99,
    "start_time": "2023-09-14T13:45:17.569Z"
   },
   {
    "duration": 233,
    "start_time": "2023-09-14T13:48:27.954Z"
   },
   {
    "duration": 9,
    "start_time": "2023-09-14T13:48:31.111Z"
   },
   {
    "duration": 250,
    "start_time": "2023-09-14T13:48:34.110Z"
   },
   {
    "duration": 43,
    "start_time": "2023-09-14T13:48:35.629Z"
   },
   {
    "duration": 63,
    "start_time": "2023-09-14T13:48:37.872Z"
   },
   {
    "duration": 86,
    "start_time": "2023-09-14T13:48:39.912Z"
   },
   {
    "duration": 176,
    "start_time": "2023-09-14T13:49:06.211Z"
   },
   {
    "duration": 243,
    "start_time": "2023-09-14T13:49:24.190Z"
   },
   {
    "duration": 206,
    "start_time": "2023-09-14T13:49:29.566Z"
   },
   {
    "duration": 5,
    "start_time": "2023-09-14T13:50:23.606Z"
   },
   {
    "duration": 212,
    "start_time": "2023-09-14T13:51:44.044Z"
   },
   {
    "duration": 61,
    "start_time": "2023-09-14T13:54:14.896Z"
   },
   {
    "duration": 99,
    "start_time": "2023-09-14T13:54:27.642Z"
   },
   {
    "duration": 1542,
    "start_time": "2023-09-14T14:01:25.895Z"
   },
   {
    "duration": 7,
    "start_time": "2023-09-14T14:01:30.583Z"
   },
   {
    "duration": 14,
    "start_time": "2023-09-14T14:06:07.984Z"
   },
   {
    "duration": 1662,
    "start_time": "2023-09-14T14:06:26.819Z"
   },
   {
    "duration": 6397,
    "start_time": "2023-09-14T14:06:33.442Z"
   },
   {
    "duration": 6060,
    "start_time": "2023-09-14T14:07:36.885Z"
   },
   {
    "duration": 5844,
    "start_time": "2023-09-14T14:12:59.342Z"
   },
   {
    "duration": 433,
    "start_time": "2023-09-14T14:15:47.875Z"
   },
   {
    "duration": 727,
    "start_time": "2023-09-14T14:15:51.187Z"
   },
   {
    "duration": 4,
    "start_time": "2023-09-14T14:18:26.967Z"
   },
   {
    "duration": 248,
    "start_time": "2023-09-14T14:19:15.162Z"
   },
   {
    "duration": 192,
    "start_time": "2023-09-14T14:19:25.435Z"
   },
   {
    "duration": 188,
    "start_time": "2023-09-14T14:19:51.531Z"
   },
   {
    "duration": 235,
    "start_time": "2023-09-14T14:20:04.111Z"
   },
   {
    "duration": 341,
    "start_time": "2023-09-14T14:20:22.166Z"
   },
   {
    "duration": 316,
    "start_time": "2023-09-14T14:21:12.170Z"
   },
   {
    "duration": 88,
    "start_time": "2023-09-14T14:23:13.380Z"
   },
   {
    "duration": 86,
    "start_time": "2023-09-14T14:23:20.328Z"
   },
   {
    "duration": 39,
    "start_time": "2023-09-14T14:26:40.770Z"
   },
   {
    "duration": 17,
    "start_time": "2023-09-14T14:26:53.784Z"
   },
   {
    "duration": 26,
    "start_time": "2023-09-14T14:27:08.936Z"
   },
   {
    "duration": 33,
    "start_time": "2023-09-14T14:27:45.246Z"
   },
   {
    "duration": 112,
    "start_time": "2023-09-14T14:28:21.991Z"
   },
   {
    "duration": 27,
    "start_time": "2023-09-14T14:30:21.027Z"
   },
   {
    "duration": 23,
    "start_time": "2023-09-14T14:30:52.088Z"
   },
   {
    "duration": 17,
    "start_time": "2023-09-14T14:31:17.681Z"
   },
   {
    "duration": 3,
    "start_time": "2023-09-14T17:18:08.371Z"
   },
   {
    "duration": 211,
    "start_time": "2023-09-14T17:18:11.016Z"
   },
   {
    "duration": 28,
    "start_time": "2023-09-14T17:18:11.465Z"
   },
   {
    "duration": 4,
    "start_time": "2023-09-14T17:18:14.428Z"
   },
   {
    "duration": 212,
    "start_time": "2023-09-14T17:18:14.435Z"
   },
   {
    "duration": 35,
    "start_time": "2023-09-14T17:18:14.649Z"
   },
   {
    "duration": 71,
    "start_time": "2023-09-14T17:18:14.690Z"
   },
   {
    "duration": 9,
    "start_time": "2023-09-14T17:18:14.764Z"
   },
   {
    "duration": 0,
    "start_time": "2023-09-14T17:18:14.775Z"
   },
   {
    "duration": 0,
    "start_time": "2023-09-14T17:18:14.780Z"
   },
   {
    "duration": 0,
    "start_time": "2023-09-14T17:18:14.781Z"
   },
   {
    "duration": 0,
    "start_time": "2023-09-14T17:18:14.782Z"
   },
   {
    "duration": 0,
    "start_time": "2023-09-14T17:18:14.782Z"
   },
   {
    "duration": 0,
    "start_time": "2023-09-14T17:18:14.783Z"
   },
   {
    "duration": 0,
    "start_time": "2023-09-14T17:18:14.784Z"
   },
   {
    "duration": 0,
    "start_time": "2023-09-14T17:18:14.785Z"
   },
   {
    "duration": 0,
    "start_time": "2023-09-14T17:18:14.786Z"
   },
   {
    "duration": 1290,
    "start_time": "2023-09-14T17:18:24.944Z"
   },
   {
    "duration": 228,
    "start_time": "2023-09-14T17:18:26.236Z"
   },
   {
    "duration": 33,
    "start_time": "2023-09-14T17:18:26.466Z"
   },
   {
    "duration": 89,
    "start_time": "2023-09-14T17:18:26.504Z"
   },
   {
    "duration": 145,
    "start_time": "2023-09-14T17:18:26.597Z"
   },
   {
    "duration": 0,
    "start_time": "2023-09-14T17:18:26.744Z"
   },
   {
    "duration": 0,
    "start_time": "2023-09-14T17:18:26.745Z"
   },
   {
    "duration": 0,
    "start_time": "2023-09-14T17:18:26.747Z"
   },
   {
    "duration": 0,
    "start_time": "2023-09-14T17:18:26.750Z"
   },
   {
    "duration": 0,
    "start_time": "2023-09-14T17:18:26.751Z"
   },
   {
    "duration": 0,
    "start_time": "2023-09-14T17:18:26.752Z"
   },
   {
    "duration": 0,
    "start_time": "2023-09-14T17:18:26.753Z"
   },
   {
    "duration": 0,
    "start_time": "2023-09-14T17:18:26.754Z"
   },
   {
    "duration": 0,
    "start_time": "2023-09-14T17:18:26.756Z"
   },
   {
    "duration": 90,
    "start_time": "2023-09-14T17:18:36.208Z"
   },
   {
    "duration": 4,
    "start_time": "2023-09-14T17:18:37.702Z"
   },
   {
    "duration": 164,
    "start_time": "2023-09-14T17:18:38.445Z"
   },
   {
    "duration": 73,
    "start_time": "2023-09-14T17:18:40.581Z"
   },
   {
    "duration": 7,
    "start_time": "2023-09-14T17:18:41.626Z"
   },
   {
    "duration": 14,
    "start_time": "2023-09-14T17:18:42.555Z"
   },
   {
    "duration": 444,
    "start_time": "2023-09-14T17:18:43.607Z"
   },
   {
    "duration": 88,
    "start_time": "2023-09-14T17:18:44.252Z"
   },
   {
    "duration": 20,
    "start_time": "2023-09-14T17:18:46.518Z"
   },
   {
    "duration": 10,
    "start_time": "2023-09-14T17:18:49.262Z"
   },
   {
    "duration": 20,
    "start_time": "2023-09-14T17:18:52.521Z"
   },
   {
    "duration": 98,
    "start_time": "2023-09-14T17:21:08.139Z"
   },
   {
    "duration": 37,
    "start_time": "2023-09-14T17:21:38.100Z"
   },
   {
    "duration": 33,
    "start_time": "2023-09-14T17:21:41.807Z"
   },
   {
    "duration": 29,
    "start_time": "2023-09-14T17:21:46.053Z"
   },
   {
    "duration": 114,
    "start_time": "2023-09-14T17:23:42.108Z"
   },
   {
    "duration": 62,
    "start_time": "2023-09-14T17:24:10.512Z"
   },
   {
    "duration": 92,
    "start_time": "2023-09-14T17:25:16.645Z"
   },
   {
    "duration": 10,
    "start_time": "2023-09-14T17:25:48.201Z"
   },
   {
    "duration": 12,
    "start_time": "2023-09-14T17:25:54.476Z"
   },
   {
    "duration": 12,
    "start_time": "2023-09-14T17:26:06.151Z"
   },
   {
    "duration": 363,
    "start_time": "2023-09-14T17:31:47.836Z"
   },
   {
    "duration": 388,
    "start_time": "2023-09-14T17:32:16.173Z"
   },
   {
    "duration": 391,
    "start_time": "2023-09-14T17:32:19.666Z"
   },
   {
    "duration": 388,
    "start_time": "2023-09-14T17:32:25.220Z"
   },
   {
    "duration": 381,
    "start_time": "2023-09-14T17:32:28.521Z"
   },
   {
    "duration": 389,
    "start_time": "2023-09-14T17:32:53.658Z"
   },
   {
    "duration": 493,
    "start_time": "2023-09-14T17:37:07.742Z"
   },
   {
    "duration": 430,
    "start_time": "2023-09-14T17:37:12.929Z"
   },
   {
    "duration": 14,
    "start_time": "2023-09-14T17:46:27.272Z"
   },
   {
    "duration": 14,
    "start_time": "2023-09-14T17:46:30.149Z"
   },
   {
    "duration": 20,
    "start_time": "2023-09-14T17:48:12.232Z"
   },
   {
    "duration": 21,
    "start_time": "2023-09-14T17:48:19.642Z"
   },
   {
    "duration": 45,
    "start_time": "2023-09-14T17:48:27.271Z"
   },
   {
    "duration": 17,
    "start_time": "2023-09-14T17:52:02.435Z"
   },
   {
    "duration": 11,
    "start_time": "2023-09-14T18:15:26.275Z"
   },
   {
    "duration": 9,
    "start_time": "2023-09-14T18:17:37.327Z"
   },
   {
    "duration": 37,
    "start_time": "2023-09-14T18:17:41.400Z"
   },
   {
    "duration": 12,
    "start_time": "2023-09-14T18:44:15.938Z"
   },
   {
    "duration": 68,
    "start_time": "2023-09-14T18:44:30.044Z"
   },
   {
    "duration": 7,
    "start_time": "2023-09-14T18:47:51.969Z"
   },
   {
    "duration": 4,
    "start_time": "2023-09-14T18:47:59.457Z"
   },
   {
    "duration": 29,
    "start_time": "2023-09-14T18:48:20.881Z"
   },
   {
    "duration": 14,
    "start_time": "2023-09-14T18:48:32.795Z"
   },
   {
    "duration": 15,
    "start_time": "2023-09-14T18:48:33.319Z"
   },
   {
    "duration": 129,
    "start_time": "2023-09-14T18:48:54.350Z"
   },
   {
    "duration": 6,
    "start_time": "2023-09-14T18:49:00.918Z"
   },
   {
    "duration": 152,
    "start_time": "2023-09-14T18:49:12.878Z"
   },
   {
    "duration": 58,
    "start_time": "2023-09-14T18:52:03.905Z"
   },
   {
    "duration": 5,
    "start_time": "2023-09-14T18:52:40.510Z"
   },
   {
    "duration": 169,
    "start_time": "2023-09-14T18:52:41.014Z"
   },
   {
    "duration": 135,
    "start_time": "2023-09-14T18:53:15.021Z"
   },
   {
    "duration": 22,
    "start_time": "2023-09-14T18:53:30.504Z"
   },
   {
    "duration": 7,
    "start_time": "2023-09-14T19:07:19.417Z"
   },
   {
    "duration": 44,
    "start_time": "2023-09-14T19:07:53.775Z"
   },
   {
    "duration": 44,
    "start_time": "2023-09-14T19:08:20.674Z"
   },
   {
    "duration": 30,
    "start_time": "2023-09-14T19:08:31.230Z"
   },
   {
    "duration": 39,
    "start_time": "2023-09-14T19:08:38.318Z"
   },
   {
    "duration": 12,
    "start_time": "2023-09-14T19:12:20.452Z"
   },
   {
    "duration": 13,
    "start_time": "2023-09-14T19:14:47.776Z"
   },
   {
    "duration": 11,
    "start_time": "2023-09-14T19:14:57.340Z"
   },
   {
    "duration": 110,
    "start_time": "2023-09-14T19:16:13.707Z"
   },
   {
    "duration": 110,
    "start_time": "2023-09-14T19:16:19.114Z"
   },
   {
    "duration": 6,
    "start_time": "2023-09-14T19:16:55.418Z"
   },
   {
    "duration": 113,
    "start_time": "2023-09-14T19:16:57.577Z"
   },
   {
    "duration": 10,
    "start_time": "2023-09-14T19:17:13.974Z"
   },
   {
    "duration": 13,
    "start_time": "2023-09-14T19:17:19.572Z"
   },
   {
    "duration": 108,
    "start_time": "2023-09-14T19:17:21.269Z"
   },
   {
    "duration": 10,
    "start_time": "2023-09-14T19:17:48.307Z"
   },
   {
    "duration": 29,
    "start_time": "2023-09-14T19:17:48.654Z"
   },
   {
    "duration": 29,
    "start_time": "2023-09-14T19:17:49.042Z"
   },
   {
    "duration": 37,
    "start_time": "2023-09-14T19:17:49.367Z"
   },
   {
    "duration": 37,
    "start_time": "2023-09-14T19:17:49.591Z"
   },
   {
    "duration": 19,
    "start_time": "2023-09-14T19:17:50.667Z"
   },
   {
    "duration": 8,
    "start_time": "2023-09-14T19:17:52.911Z"
   },
   {
    "duration": 89,
    "start_time": "2023-09-14T19:17:54.335Z"
   },
   {
    "duration": 124,
    "start_time": "2023-09-14T19:18:37.436Z"
   },
   {
    "duration": 100,
    "start_time": "2023-09-14T19:18:41.631Z"
   },
   {
    "duration": 99,
    "start_time": "2023-09-14T19:19:25.628Z"
   },
   {
    "duration": 113,
    "start_time": "2023-09-14T19:19:58.921Z"
   },
   {
    "duration": 154,
    "start_time": "2023-09-14T19:21:06.223Z"
   },
   {
    "duration": 4,
    "start_time": "2023-09-14T19:36:28.342Z"
   },
   {
    "duration": 347,
    "start_time": "2023-09-14T19:36:28.349Z"
   },
   {
    "duration": 31,
    "start_time": "2023-09-14T19:36:28.698Z"
   },
   {
    "duration": 139,
    "start_time": "2023-09-14T19:36:28.731Z"
   },
   {
    "duration": 124,
    "start_time": "2023-09-14T19:36:28.873Z"
   },
   {
    "duration": 511,
    "start_time": "2023-09-14T19:36:29.001Z"
   },
   {
    "duration": 1216,
    "start_time": "2023-09-14T19:36:29.515Z"
   },
   {
    "duration": 1063,
    "start_time": "2023-09-14T19:36:30.734Z"
   },
   {
    "duration": 632,
    "start_time": "2023-09-14T19:36:31.799Z"
   },
   {
    "duration": 308,
    "start_time": "2023-09-14T19:36:32.433Z"
   },
   {
    "duration": 1398,
    "start_time": "2023-09-14T19:36:32.743Z"
   },
   {
    "duration": 1233,
    "start_time": "2023-09-14T19:36:34.143Z"
   },
   {
    "duration": 916,
    "start_time": "2023-09-14T19:36:35.378Z"
   },
   {
    "duration": 423,
    "start_time": "2023-09-14T19:36:36.307Z"
   },
   {
    "duration": 26,
    "start_time": "2023-09-14T19:36:36.732Z"
   },
   {
    "duration": 50,
    "start_time": "2023-09-14T19:36:36.766Z"
   },
   {
    "duration": 42,
    "start_time": "2023-09-14T19:36:36.825Z"
   },
   {
    "duration": 99,
    "start_time": "2023-09-14T19:36:36.869Z"
   },
   {
    "duration": 25,
    "start_time": "2023-09-14T19:36:36.972Z"
   },
   {
    "duration": 515,
    "start_time": "2023-09-14T19:36:36.999Z"
   },
   {
    "duration": 11,
    "start_time": "2023-09-14T19:36:37.516Z"
   },
   {
    "duration": 78,
    "start_time": "2023-09-14T19:36:37.529Z"
   },
   {
    "duration": 5,
    "start_time": "2023-09-14T19:36:37.609Z"
   },
   {
    "duration": 214,
    "start_time": "2023-09-14T19:36:37.616Z"
   },
   {
    "duration": 25,
    "start_time": "2023-09-14T19:36:37.832Z"
   },
   {
    "duration": 9,
    "start_time": "2023-09-14T19:36:37.859Z"
   },
   {
    "duration": 61,
    "start_time": "2023-09-14T19:36:37.881Z"
   },
   {
    "duration": 41,
    "start_time": "2023-09-14T19:36:37.944Z"
   },
   {
    "duration": 29,
    "start_time": "2023-09-14T19:36:37.990Z"
   },
   {
    "duration": 29,
    "start_time": "2023-09-14T19:36:38.021Z"
   },
   {
    "duration": 34,
    "start_time": "2023-09-14T19:36:38.052Z"
   },
   {
    "duration": 16,
    "start_time": "2023-09-14T19:36:38.088Z"
   },
   {
    "duration": 86,
    "start_time": "2023-09-14T19:36:38.106Z"
   },
   {
    "duration": 76,
    "start_time": "2023-09-14T19:36:38.194Z"
   },
   {
    "duration": 70,
    "start_time": "2023-09-14T19:36:38.281Z"
   },
   {
    "duration": 86,
    "start_time": "2023-09-14T19:36:38.353Z"
   },
   {
    "duration": 1255,
    "start_time": "2023-09-14T19:53:21.124Z"
   },
   {
    "duration": 211,
    "start_time": "2023-09-14T19:53:22.389Z"
   },
   {
    "duration": 23,
    "start_time": "2023-09-14T19:53:22.602Z"
   },
   {
    "duration": 100,
    "start_time": "2023-09-14T19:53:22.627Z"
   },
   {
    "duration": 102,
    "start_time": "2023-09-14T19:53:22.728Z"
   },
   {
    "duration": 4,
    "start_time": "2023-09-14T19:53:22.832Z"
   },
   {
    "duration": 170,
    "start_time": "2023-09-14T19:53:22.838Z"
   },
   {
    "duration": 85,
    "start_time": "2023-09-14T19:53:23.010Z"
   },
   {
    "duration": 13,
    "start_time": "2023-09-14T19:53:23.097Z"
   },
   {
    "duration": 21,
    "start_time": "2023-09-14T19:53:23.113Z"
   },
   {
    "duration": 31,
    "start_time": "2023-09-14T19:53:23.137Z"
   },
   {
    "duration": 22,
    "start_time": "2023-09-14T19:53:23.176Z"
   },
   {
    "duration": 525,
    "start_time": "2023-09-14T19:53:23.200Z"
   },
   {
    "duration": 107,
    "start_time": "2023-09-14T19:53:23.727Z"
   },
   {
    "duration": 35,
    "start_time": "2023-09-14T19:53:23.835Z"
   },
   {
    "duration": 24,
    "start_time": "2023-09-14T19:53:23.877Z"
   },
   {
    "duration": 27,
    "start_time": "2023-09-14T19:53:23.903Z"
   },
   {
    "duration": 97,
    "start_time": "2023-09-14T19:53:23.932Z"
   },
   {
    "duration": 39,
    "start_time": "2023-09-14T19:53:24.030Z"
   },
   {
    "duration": 413,
    "start_time": "2023-09-14T19:53:24.070Z"
   },
   {
    "duration": 7,
    "start_time": "2023-09-14T19:53:24.485Z"
   },
   {
    "duration": 38,
    "start_time": "2023-09-14T19:53:24.494Z"
   },
   {
    "duration": 4,
    "start_time": "2023-09-14T19:53:24.533Z"
   },
   {
    "duration": 170,
    "start_time": "2023-09-14T19:53:24.538Z"
   },
   {
    "duration": 17,
    "start_time": "2023-09-14T19:53:24.710Z"
   },
   {
    "duration": 11,
    "start_time": "2023-09-14T19:53:24.729Z"
   },
   {
    "duration": 56,
    "start_time": "2023-09-14T19:53:24.741Z"
   },
   {
    "duration": 27,
    "start_time": "2023-09-14T19:53:24.800Z"
   },
   {
    "duration": 57,
    "start_time": "2023-09-14T19:53:24.829Z"
   },
   {
    "duration": 26,
    "start_time": "2023-09-14T19:53:24.889Z"
   },
   {
    "duration": 14,
    "start_time": "2023-09-14T19:53:24.917Z"
   },
   {
    "duration": 8,
    "start_time": "2023-09-14T19:53:24.933Z"
   },
   {
    "duration": 115,
    "start_time": "2023-09-14T19:53:24.955Z"
   },
   {
    "duration": 105,
    "start_time": "2023-09-14T19:53:25.072Z"
   },
   {
    "duration": 89,
    "start_time": "2023-09-14T19:53:25.182Z"
   },
   {
    "duration": 93,
    "start_time": "2023-09-14T19:53:25.282Z"
   },
   {
    "duration": 50,
    "start_time": "2023-09-15T17:57:21.339Z"
   },
   {
    "duration": 1345,
    "start_time": "2023-09-15T17:57:29.838Z"
   },
   {
    "duration": 535,
    "start_time": "2023-09-15T17:57:31.185Z"
   },
   {
    "duration": 28,
    "start_time": "2023-09-15T17:57:31.722Z"
   },
   {
    "duration": 84,
    "start_time": "2023-09-15T17:57:31.754Z"
   },
   {
    "duration": 86,
    "start_time": "2023-09-15T17:57:31.840Z"
   },
   {
    "duration": 4,
    "start_time": "2023-09-15T17:57:31.928Z"
   },
   {
    "duration": 161,
    "start_time": "2023-09-15T17:57:31.934Z"
   },
   {
    "duration": 62,
    "start_time": "2023-09-15T17:57:32.101Z"
   },
   {
    "duration": 13,
    "start_time": "2023-09-15T17:57:32.166Z"
   },
   {
    "duration": 20,
    "start_time": "2023-09-15T17:57:32.200Z"
   },
   {
    "duration": 15,
    "start_time": "2023-09-15T17:57:32.222Z"
   },
   {
    "duration": 53,
    "start_time": "2023-09-15T17:57:32.239Z"
   },
   {
    "duration": 517,
    "start_time": "2023-09-15T17:57:32.294Z"
   },
   {
    "duration": 90,
    "start_time": "2023-09-15T17:57:32.814Z"
   },
   {
    "duration": 67,
    "start_time": "2023-09-15T17:57:32.906Z"
   },
   {
    "duration": 39,
    "start_time": "2023-09-15T17:57:32.975Z"
   },
   {
    "duration": 31,
    "start_time": "2023-09-15T17:57:33.015Z"
   },
   {
    "duration": 94,
    "start_time": "2023-09-15T17:57:33.048Z"
   },
   {
    "duration": 13,
    "start_time": "2023-09-15T17:57:33.144Z"
   },
   {
    "duration": 391,
    "start_time": "2023-09-15T17:57:33.159Z"
   },
   {
    "duration": 7,
    "start_time": "2023-09-15T17:57:33.552Z"
   },
   {
    "duration": 48,
    "start_time": "2023-09-15T17:57:33.560Z"
   },
   {
    "duration": 4,
    "start_time": "2023-09-15T17:57:33.610Z"
   },
   {
    "duration": 160,
    "start_time": "2023-09-15T17:57:33.616Z"
   },
   {
    "duration": 25,
    "start_time": "2023-09-15T17:57:33.777Z"
   },
   {
    "duration": 6,
    "start_time": "2023-09-15T17:57:33.803Z"
   },
   {
    "duration": 47,
    "start_time": "2023-09-15T17:57:33.811Z"
   },
   {
    "duration": 22,
    "start_time": "2023-09-15T17:57:33.860Z"
   },
   {
    "duration": 22,
    "start_time": "2023-09-15T17:57:33.883Z"
   },
   {
    "duration": 20,
    "start_time": "2023-09-15T17:57:33.907Z"
   },
   {
    "duration": 15,
    "start_time": "2023-09-15T17:57:33.929Z"
   },
   {
    "duration": 6,
    "start_time": "2023-09-15T17:57:33.946Z"
   },
   {
    "duration": 90,
    "start_time": "2023-09-15T17:57:33.954Z"
   },
   {
    "duration": 83,
    "start_time": "2023-09-15T17:57:34.046Z"
   },
   {
    "duration": 85,
    "start_time": "2023-09-15T17:57:34.130Z"
   },
   {
    "duration": 95,
    "start_time": "2023-09-15T17:57:34.217Z"
   },
   {
    "duration": 436,
    "start_time": "2023-09-15T17:58:06.011Z"
   },
   {
    "duration": 408,
    "start_time": "2023-09-15T17:59:04.722Z"
   },
   {
    "duration": 464,
    "start_time": "2023-09-15T18:01:40.708Z"
   },
   {
    "duration": 558,
    "start_time": "2023-09-15T18:01:46.822Z"
   },
   {
    "duration": 1850,
    "start_time": "2023-09-15T18:01:52.028Z"
   },
   {
    "duration": 1845,
    "start_time": "2023-09-15T18:02:19.420Z"
   },
   {
    "duration": 138,
    "start_time": "2023-09-15T18:03:40.940Z"
   },
   {
    "duration": 104,
    "start_time": "2023-09-15T18:03:48.530Z"
   },
   {
    "duration": 15,
    "start_time": "2023-09-15T18:04:48.843Z"
   },
   {
    "duration": 2064,
    "start_time": "2023-09-15T18:05:03.314Z"
   },
   {
    "duration": 21,
    "start_time": "2023-09-15T18:05:24.845Z"
   },
   {
    "duration": 12,
    "start_time": "2023-09-15T18:06:23.402Z"
   },
   {
    "duration": 20,
    "start_time": "2023-09-15T18:06:24.518Z"
   },
   {
    "duration": 1867,
    "start_time": "2023-09-15T18:06:25.400Z"
   },
   {
    "duration": 1178,
    "start_time": "2023-09-15T18:08:08.504Z"
   },
   {
    "duration": 179,
    "start_time": "2023-09-15T18:08:09.684Z"
   },
   {
    "duration": 24,
    "start_time": "2023-09-15T18:08:09.865Z"
   },
   {
    "duration": 78,
    "start_time": "2023-09-15T18:08:09.891Z"
   },
   {
    "duration": 95,
    "start_time": "2023-09-15T18:08:09.973Z"
   },
   {
    "duration": 5,
    "start_time": "2023-09-15T18:08:10.069Z"
   },
   {
    "duration": 155,
    "start_time": "2023-09-15T18:08:10.076Z"
   },
   {
    "duration": 74,
    "start_time": "2023-09-15T18:08:10.233Z"
   },
   {
    "duration": 15,
    "start_time": "2023-09-15T18:08:10.309Z"
   },
   {
    "duration": 27,
    "start_time": "2023-09-15T18:08:10.326Z"
   },
   {
    "duration": 7,
    "start_time": "2023-09-15T18:08:10.355Z"
   },
   {
    "duration": 25,
    "start_time": "2023-09-15T18:08:10.364Z"
   },
   {
    "duration": 1836,
    "start_time": "2023-09-15T18:08:10.402Z"
   },
   {
    "duration": 12,
    "start_time": "2023-09-15T18:08:12.241Z"
   },
   {
    "duration": 56,
    "start_time": "2023-09-15T18:08:12.254Z"
   },
   {
    "duration": 1244,
    "start_time": "2023-09-15T18:08:53.480Z"
   },
   {
    "duration": 216,
    "start_time": "2023-09-15T18:08:54.728Z"
   },
   {
    "duration": 27,
    "start_time": "2023-09-15T18:08:54.948Z"
   },
   {
    "duration": 89,
    "start_time": "2023-09-15T18:08:54.979Z"
   },
   {
    "duration": 97,
    "start_time": "2023-09-15T18:08:55.070Z"
   },
   {
    "duration": 4,
    "start_time": "2023-09-15T18:08:55.169Z"
   },
   {
    "duration": 172,
    "start_time": "2023-09-15T18:08:55.175Z"
   },
   {
    "duration": 73,
    "start_time": "2023-09-15T18:08:55.349Z"
   },
   {
    "duration": 13,
    "start_time": "2023-09-15T18:08:55.424Z"
   },
   {
    "duration": 38,
    "start_time": "2023-09-15T18:08:55.440Z"
   },
   {
    "duration": 12,
    "start_time": "2023-09-15T18:08:55.480Z"
   },
   {
    "duration": 62,
    "start_time": "2023-09-15T18:08:55.494Z"
   },
   {
    "duration": 1973,
    "start_time": "2023-09-15T18:08:55.559Z"
   },
   {
    "duration": 19,
    "start_time": "2023-09-15T18:08:57.534Z"
   },
   {
    "duration": 1187,
    "start_time": "2023-09-15T18:10:06.484Z"
   },
   {
    "duration": 183,
    "start_time": "2023-09-15T18:10:07.673Z"
   },
   {
    "duration": 24,
    "start_time": "2023-09-15T18:10:07.858Z"
   },
   {
    "duration": 222,
    "start_time": "2023-09-15T18:10:07.884Z"
   },
   {
    "duration": 122,
    "start_time": "2023-09-15T18:10:08.108Z"
   },
   {
    "duration": 4,
    "start_time": "2023-09-15T18:10:08.232Z"
   },
   {
    "duration": 152,
    "start_time": "2023-09-15T18:10:08.238Z"
   },
   {
    "duration": 71,
    "start_time": "2023-09-15T18:10:08.392Z"
   },
   {
    "duration": 13,
    "start_time": "2023-09-15T18:10:08.465Z"
   },
   {
    "duration": 33,
    "start_time": "2023-09-15T18:10:08.480Z"
   },
   {
    "duration": 6,
    "start_time": "2023-09-15T18:10:08.515Z"
   },
   {
    "duration": 34,
    "start_time": "2023-09-15T18:10:08.522Z"
   },
   {
    "duration": 2015,
    "start_time": "2023-09-15T18:10:08.558Z"
   },
   {
    "duration": 28,
    "start_time": "2023-09-15T18:10:10.577Z"
   },
   {
    "duration": 1333,
    "start_time": "2023-09-15T18:14:02.461Z"
   },
   {
    "duration": 183,
    "start_time": "2023-09-15T18:14:03.797Z"
   },
   {
    "duration": 27,
    "start_time": "2023-09-15T18:14:03.982Z"
   },
   {
    "duration": 160,
    "start_time": "2023-09-15T18:14:04.010Z"
   },
   {
    "duration": 98,
    "start_time": "2023-09-15T18:14:04.174Z"
   },
   {
    "duration": 4,
    "start_time": "2023-09-15T18:14:04.275Z"
   },
   {
    "duration": 163,
    "start_time": "2023-09-15T18:14:04.281Z"
   },
   {
    "duration": 80,
    "start_time": "2023-09-15T18:14:04.446Z"
   },
   {
    "duration": 14,
    "start_time": "2023-09-15T18:14:04.529Z"
   },
   {
    "duration": 29,
    "start_time": "2023-09-15T18:14:04.546Z"
   },
   {
    "duration": 27,
    "start_time": "2023-09-15T18:14:04.577Z"
   },
   {
    "duration": 44,
    "start_time": "2023-09-15T18:14:04.606Z"
   },
   {
    "duration": 1981,
    "start_time": "2023-09-15T18:14:04.653Z"
   },
   {
    "duration": 89,
    "start_time": "2023-09-15T18:14:06.638Z"
   },
   {
    "duration": 13,
    "start_time": "2023-09-15T18:14:06.728Z"
   },
   {
    "duration": 34,
    "start_time": "2023-09-15T18:14:06.743Z"
   },
   {
    "duration": 23,
    "start_time": "2023-09-15T18:14:06.779Z"
   },
   {
    "duration": 1175,
    "start_time": "2023-09-15T18:16:23.988Z"
   },
   {
    "duration": 178,
    "start_time": "2023-09-15T18:16:25.165Z"
   },
   {
    "duration": 23,
    "start_time": "2023-09-15T18:16:25.346Z"
   },
   {
    "duration": 77,
    "start_time": "2023-09-15T18:16:25.371Z"
   },
   {
    "duration": 99,
    "start_time": "2023-09-15T18:16:25.450Z"
   },
   {
    "duration": 4,
    "start_time": "2023-09-15T18:16:25.551Z"
   },
   {
    "duration": 171,
    "start_time": "2023-09-15T18:16:25.557Z"
   },
   {
    "duration": 72,
    "start_time": "2023-09-15T18:16:25.730Z"
   },
   {
    "duration": 13,
    "start_time": "2023-09-15T18:16:25.804Z"
   },
   {
    "duration": 19,
    "start_time": "2023-09-15T18:16:25.818Z"
   },
   {
    "duration": 30,
    "start_time": "2023-09-15T18:16:25.838Z"
   },
   {
    "duration": 32,
    "start_time": "2023-09-15T18:16:25.870Z"
   },
   {
    "duration": 1856,
    "start_time": "2023-09-15T18:16:25.906Z"
   },
   {
    "duration": 15,
    "start_time": "2023-09-15T18:16:27.763Z"
   },
   {
    "duration": 27,
    "start_time": "2023-09-15T18:16:27.780Z"
   },
   {
    "duration": 12,
    "start_time": "2023-09-15T18:16:27.809Z"
   },
   {
    "duration": 32,
    "start_time": "2023-09-15T18:16:27.822Z"
   },
   {
    "duration": 1751,
    "start_time": "2023-09-15T18:16:27.856Z"
   },
   {
    "duration": 9,
    "start_time": "2023-09-15T18:16:29.609Z"
   },
   {
    "duration": 22,
    "start_time": "2023-09-15T18:16:29.620Z"
   },
   {
    "duration": 14,
    "start_time": "2023-09-15T18:16:29.644Z"
   },
   {
    "duration": 35,
    "start_time": "2023-09-15T18:16:29.659Z"
   },
   {
    "duration": 18,
    "start_time": "2023-09-15T18:16:29.696Z"
   },
   {
    "duration": 317,
    "start_time": "2023-09-15T18:16:29.716Z"
   },
   {
    "duration": 6,
    "start_time": "2023-09-15T18:16:30.034Z"
   },
   {
    "duration": 89,
    "start_time": "2023-09-15T18:16:30.042Z"
   },
   {
    "duration": 226,
    "start_time": "2023-09-15T18:16:30.132Z"
   },
   {
    "duration": 125,
    "start_time": "2023-09-15T18:16:30.361Z"
   },
   {
    "duration": 83,
    "start_time": "2023-09-15T18:16:30.488Z"
   },
   {
    "duration": 328,
    "start_time": "2023-09-15T18:16:30.572Z"
   },
   {
    "duration": 91,
    "start_time": "2023-09-15T18:16:30.901Z"
   },
   {
    "duration": 44,
    "start_time": "2023-09-15T18:16:30.994Z"
   },
   {
    "duration": 36,
    "start_time": "2023-09-15T18:16:31.040Z"
   },
   {
    "duration": 41,
    "start_time": "2023-09-15T18:16:31.078Z"
   },
   {
    "duration": 63,
    "start_time": "2023-09-15T18:16:31.121Z"
   },
   {
    "duration": 47,
    "start_time": "2023-09-15T18:16:31.186Z"
   },
   {
    "duration": 97,
    "start_time": "2023-09-15T18:16:31.235Z"
   },
   {
    "duration": 70,
    "start_time": "2023-09-15T18:16:31.333Z"
   },
   {
    "duration": 289,
    "start_time": "2023-09-15T18:16:31.405Z"
   },
   {
    "duration": 73,
    "start_time": "2023-09-15T18:16:31.697Z"
   },
   {
    "duration": 142,
    "start_time": "2023-09-15T18:16:34.166Z"
   },
   {
    "duration": 65,
    "start_time": "2023-09-15T18:16:36.337Z"
   },
   {
    "duration": 13,
    "start_time": "2023-09-15T18:16:36.806Z"
   },
   {
    "duration": 16,
    "start_time": "2023-09-15T18:16:37.089Z"
   },
   {
    "duration": 5,
    "start_time": "2023-09-15T18:16:37.418Z"
   },
   {
    "duration": 14,
    "start_time": "2023-09-15T18:16:37.908Z"
   },
   {
    "duration": 1898,
    "start_time": "2023-09-15T18:16:38.524Z"
   },
   {
    "duration": 104,
    "start_time": "2023-09-15T18:17:14.605Z"
   },
   {
    "duration": 12,
    "start_time": "2023-09-15T18:17:15.164Z"
   },
   {
    "duration": 14,
    "start_time": "2023-09-15T18:17:15.326Z"
   },
   {
    "duration": 24,
    "start_time": "2023-09-15T18:17:15.491Z"
   },
   {
    "duration": 1252,
    "start_time": "2023-09-15T18:17:36.470Z"
   },
   {
    "duration": 198,
    "start_time": "2023-09-15T18:17:37.724Z"
   },
   {
    "duration": 26,
    "start_time": "2023-09-15T18:17:37.923Z"
   },
   {
    "duration": 91,
    "start_time": "2023-09-15T18:17:37.950Z"
   },
   {
    "duration": 96,
    "start_time": "2023-09-15T18:17:38.043Z"
   },
   {
    "duration": 5,
    "start_time": "2023-09-15T18:17:38.141Z"
   },
   {
    "duration": 166,
    "start_time": "2023-09-15T18:17:38.147Z"
   },
   {
    "duration": 68,
    "start_time": "2023-09-15T18:17:38.315Z"
   },
   {
    "duration": 26,
    "start_time": "2023-09-15T18:17:38.385Z"
   },
   {
    "duration": 23,
    "start_time": "2023-09-15T18:17:38.413Z"
   },
   {
    "duration": 20,
    "start_time": "2023-09-15T18:17:38.438Z"
   },
   {
    "duration": 28,
    "start_time": "2023-09-15T18:17:38.460Z"
   },
   {
    "duration": 1917,
    "start_time": "2023-09-15T18:17:38.490Z"
   },
   {
    "duration": 92,
    "start_time": "2023-09-15T18:17:40.410Z"
   },
   {
    "duration": 11,
    "start_time": "2023-09-15T18:17:40.504Z"
   },
   {
    "duration": 26,
    "start_time": "2023-09-15T18:17:40.517Z"
   },
   {
    "duration": 23,
    "start_time": "2023-09-15T18:17:40.545Z"
   },
   {
    "duration": 1216,
    "start_time": "2023-09-15T18:18:39.565Z"
   },
   {
    "duration": 187,
    "start_time": "2023-09-15T18:18:40.783Z"
   },
   {
    "duration": 22,
    "start_time": "2023-09-15T18:18:40.972Z"
   },
   {
    "duration": 99,
    "start_time": "2023-09-15T18:18:40.997Z"
   },
   {
    "duration": 85,
    "start_time": "2023-09-15T18:18:41.098Z"
   },
   {
    "duration": 4,
    "start_time": "2023-09-15T18:18:41.185Z"
   },
   {
    "duration": 160,
    "start_time": "2023-09-15T18:18:41.201Z"
   },
   {
    "duration": 77,
    "start_time": "2023-09-15T18:18:41.364Z"
   },
   {
    "duration": 15,
    "start_time": "2023-09-15T18:18:41.443Z"
   },
   {
    "duration": 67,
    "start_time": "2023-09-15T18:18:41.460Z"
   },
   {
    "duration": 41,
    "start_time": "2023-09-15T18:18:41.528Z"
   },
   {
    "duration": 73,
    "start_time": "2023-09-15T18:18:41.571Z"
   },
   {
    "duration": 1959,
    "start_time": "2023-09-15T18:18:41.647Z"
   },
   {
    "duration": 94,
    "start_time": "2023-09-15T18:18:43.608Z"
   },
   {
    "duration": 69,
    "start_time": "2023-09-15T18:18:43.704Z"
   },
   {
    "duration": 30,
    "start_time": "2023-09-15T18:18:43.775Z"
   },
   {
    "duration": 20,
    "start_time": "2023-09-15T18:18:43.807Z"
   },
   {
    "duration": 68,
    "start_time": "2023-09-15T18:18:43.828Z"
   },
   {
    "duration": 115,
    "start_time": "2023-09-15T18:18:43.897Z"
   },
   {
    "duration": 14,
    "start_time": "2023-09-15T18:18:44.014Z"
   },
   {
    "duration": 375,
    "start_time": "2023-09-15T18:18:44.030Z"
   },
   {
    "duration": 7,
    "start_time": "2023-09-15T18:18:44.407Z"
   },
   {
    "duration": 56,
    "start_time": "2023-09-15T18:18:44.415Z"
   },
   {
    "duration": 4,
    "start_time": "2023-09-15T18:18:44.473Z"
   },
   {
    "duration": 161,
    "start_time": "2023-09-15T18:18:44.478Z"
   },
   {
    "duration": 25,
    "start_time": "2023-09-15T18:18:44.641Z"
   },
   {
    "duration": 24,
    "start_time": "2023-09-15T18:18:44.668Z"
   },
   {
    "duration": 75,
    "start_time": "2023-09-15T18:18:44.694Z"
   },
   {
    "duration": 24,
    "start_time": "2023-09-15T18:18:44.771Z"
   },
   {
    "duration": 23,
    "start_time": "2023-09-15T18:18:44.796Z"
   },
   {
    "duration": 24,
    "start_time": "2023-09-15T18:18:44.821Z"
   },
   {
    "duration": 12,
    "start_time": "2023-09-15T18:18:44.847Z"
   },
   {
    "duration": 64,
    "start_time": "2023-09-15T18:18:44.861Z"
   },
   {
    "duration": 149,
    "start_time": "2023-09-15T18:18:44.927Z"
   },
   {
    "duration": 72,
    "start_time": "2023-09-15T18:18:45.078Z"
   },
   {
    "duration": 76,
    "start_time": "2023-09-15T18:18:45.152Z"
   },
   {
    "duration": 76,
    "start_time": "2023-09-15T18:18:45.230Z"
   },
   {
    "duration": 79,
    "start_time": "2023-09-15T18:22:37.112Z"
   },
   {
    "duration": 89,
    "start_time": "2023-09-15T18:22:43.464Z"
   },
   {
    "duration": 94,
    "start_time": "2023-09-15T18:22:52.141Z"
   },
   {
    "duration": 103,
    "start_time": "2023-09-15T18:23:05.840Z"
   },
   {
    "duration": 72,
    "start_time": "2023-09-15T18:23:12.999Z"
   },
   {
    "duration": 28,
    "start_time": "2023-09-15T18:23:15.961Z"
   },
   {
    "duration": 33,
    "start_time": "2023-09-15T18:23:24.416Z"
   },
   {
    "duration": 1854,
    "start_time": "2023-09-15T18:23:43.542Z"
   },
   {
    "duration": 387,
    "start_time": "2023-09-15T18:23:54.218Z"
   },
   {
    "duration": 353,
    "start_time": "2023-09-15T18:25:39.678Z"
   },
   {
    "duration": 13,
    "start_time": "2023-09-15T18:25:51.448Z"
   },
   {
    "duration": 26,
    "start_time": "2023-09-15T18:25:57.863Z"
   },
   {
    "duration": 13,
    "start_time": "2023-09-15T18:26:08.075Z"
   },
   {
    "duration": 438,
    "start_time": "2023-09-15T18:26:14.477Z"
   },
   {
    "duration": 365,
    "start_time": "2023-09-15T18:26:18.927Z"
   },
   {
    "duration": 87,
    "start_time": "2023-09-15T18:28:34.816Z"
   },
   {
    "duration": 20,
    "start_time": "2023-09-15T18:31:11.289Z"
   },
   {
    "duration": 18,
    "start_time": "2023-09-15T18:31:23.955Z"
   },
   {
    "duration": 15,
    "start_time": "2023-09-15T18:32:00.113Z"
   },
   {
    "duration": 19,
    "start_time": "2023-09-15T18:33:18.536Z"
   },
   {
    "duration": 193,
    "start_time": "2023-09-15T18:33:26.135Z"
   },
   {
    "duration": 12,
    "start_time": "2023-09-15T18:33:57.125Z"
   },
   {
    "duration": 10,
    "start_time": "2023-09-15T18:35:05.179Z"
   },
   {
    "duration": 18,
    "start_time": "2023-09-15T18:35:17.174Z"
   },
   {
    "duration": 11,
    "start_time": "2023-09-15T21:24:36.781Z"
   },
   {
    "duration": 35,
    "start_time": "2023-09-15T21:26:02.938Z"
   },
   {
    "duration": 43,
    "start_time": "2023-09-15T21:26:27.484Z"
   },
   {
    "duration": 1245,
    "start_time": "2023-09-16T09:01:47.841Z"
   },
   {
    "duration": 192,
    "start_time": "2023-09-16T09:01:49.088Z"
   },
   {
    "duration": 36,
    "start_time": "2023-09-16T09:01:49.283Z"
   },
   {
    "duration": 70,
    "start_time": "2023-09-16T09:01:49.322Z"
   },
   {
    "duration": 93,
    "start_time": "2023-09-16T09:01:49.393Z"
   },
   {
    "duration": 4,
    "start_time": "2023-09-16T09:01:49.487Z"
   },
   {
    "duration": 154,
    "start_time": "2023-09-16T09:01:49.493Z"
   },
   {
    "duration": 83,
    "start_time": "2023-09-16T09:01:49.649Z"
   },
   {
    "duration": 15,
    "start_time": "2023-09-16T09:01:49.733Z"
   },
   {
    "duration": 26,
    "start_time": "2023-09-16T09:01:49.751Z"
   },
   {
    "duration": 13,
    "start_time": "2023-09-16T09:01:49.780Z"
   },
   {
    "duration": 30,
    "start_time": "2023-09-16T09:01:49.795Z"
   },
   {
    "duration": 1931,
    "start_time": "2023-09-16T09:01:49.827Z"
   },
   {
    "duration": 86,
    "start_time": "2023-09-16T09:01:51.760Z"
   },
   {
    "duration": 76,
    "start_time": "2023-09-16T09:01:51.847Z"
   },
   {
    "duration": 18,
    "start_time": "2023-09-16T09:01:51.925Z"
   },
   {
    "duration": 35,
    "start_time": "2023-09-16T09:01:51.945Z"
   },
   {
    "duration": 37,
    "start_time": "2023-09-16T09:01:51.982Z"
   },
   {
    "duration": 31,
    "start_time": "2023-09-16T09:01:52.021Z"
   },
   {
    "duration": 86,
    "start_time": "2023-09-16T09:01:52.054Z"
   },
   {
    "duration": 15,
    "start_time": "2023-09-16T09:01:52.142Z"
   },
   {
    "duration": 530,
    "start_time": "2023-09-16T09:01:52.158Z"
   },
   {
    "duration": 0,
    "start_time": "2023-09-16T09:01:52.690Z"
   },
   {
    "duration": 0,
    "start_time": "2023-09-16T09:01:52.691Z"
   },
   {
    "duration": 0,
    "start_time": "2023-09-16T09:01:52.693Z"
   },
   {
    "duration": 0,
    "start_time": "2023-09-16T09:01:52.694Z"
   },
   {
    "duration": 0,
    "start_time": "2023-09-16T09:01:52.710Z"
   },
   {
    "duration": 0,
    "start_time": "2023-09-16T09:01:52.711Z"
   },
   {
    "duration": 0,
    "start_time": "2023-09-16T09:01:52.712Z"
   },
   {
    "duration": 0,
    "start_time": "2023-09-16T09:01:52.714Z"
   },
   {
    "duration": 0,
    "start_time": "2023-09-16T09:01:52.715Z"
   },
   {
    "duration": 0,
    "start_time": "2023-09-16T09:01:52.716Z"
   },
   {
    "duration": 0,
    "start_time": "2023-09-16T09:01:52.718Z"
   },
   {
    "duration": 0,
    "start_time": "2023-09-16T09:01:52.720Z"
   },
   {
    "duration": 0,
    "start_time": "2023-09-16T09:01:52.721Z"
   },
   {
    "duration": 0,
    "start_time": "2023-09-16T09:01:52.723Z"
   },
   {
    "duration": 0,
    "start_time": "2023-09-16T09:01:52.724Z"
   },
   {
    "duration": 0,
    "start_time": "2023-09-16T09:01:52.726Z"
   },
   {
    "duration": 0,
    "start_time": "2023-09-16T09:01:52.728Z"
   },
   {
    "duration": 0,
    "start_time": "2023-09-16T09:01:52.729Z"
   },
   {
    "duration": 133,
    "start_time": "2023-09-16T09:03:02.768Z"
   },
   {
    "duration": 480,
    "start_time": "2023-09-16T09:03:11.740Z"
   },
   {
    "duration": 3,
    "start_time": "2023-09-16T09:03:29.763Z"
   },
   {
    "duration": 180,
    "start_time": "2023-09-16T09:03:29.985Z"
   },
   {
    "duration": 23,
    "start_time": "2023-09-16T09:03:30.175Z"
   },
   {
    "duration": 72,
    "start_time": "2023-09-16T09:03:31.197Z"
   },
   {
    "duration": 60,
    "start_time": "2023-09-16T09:03:31.575Z"
   },
   {
    "duration": 4,
    "start_time": "2023-09-16T09:03:31.931Z"
   },
   {
    "duration": 363,
    "start_time": "2023-09-16T09:03:32.329Z"
   },
   {
    "duration": 62,
    "start_time": "2023-09-16T09:03:33.145Z"
   },
   {
    "duration": 15,
    "start_time": "2023-09-16T09:03:33.967Z"
   },
   {
    "duration": 18,
    "start_time": "2023-09-16T09:03:34.431Z"
   },
   {
    "duration": 6,
    "start_time": "2023-09-16T09:03:34.976Z"
   },
   {
    "duration": 16,
    "start_time": "2023-09-16T09:03:35.977Z"
   },
   {
    "duration": 1889,
    "start_time": "2023-09-16T09:03:36.670Z"
   },
   {
    "duration": 551,
    "start_time": "2023-09-16T09:04:24.515Z"
   },
   {
    "duration": 147,
    "start_time": "2023-09-16T09:06:27.011Z"
   },
   {
    "duration": 2304,
    "start_time": "2023-09-16T09:06:42.239Z"
   },
   {
    "duration": 1273,
    "start_time": "2023-09-16T09:07:37.921Z"
   },
   {
    "duration": 193,
    "start_time": "2023-09-16T09:07:39.196Z"
   },
   {
    "duration": 32,
    "start_time": "2023-09-16T09:07:39.391Z"
   },
   {
    "duration": 67,
    "start_time": "2023-09-16T09:07:39.425Z"
   },
   {
    "duration": 89,
    "start_time": "2023-09-16T09:07:39.494Z"
   },
   {
    "duration": 4,
    "start_time": "2023-09-16T09:07:39.585Z"
   },
   {
    "duration": 154,
    "start_time": "2023-09-16T09:07:39.591Z"
   },
   {
    "duration": 81,
    "start_time": "2023-09-16T09:07:39.747Z"
   },
   {
    "duration": 15,
    "start_time": "2023-09-16T09:07:39.829Z"
   },
   {
    "duration": 25,
    "start_time": "2023-09-16T09:07:39.846Z"
   },
   {
    "duration": 12,
    "start_time": "2023-09-16T09:07:39.874Z"
   },
   {
    "duration": 27,
    "start_time": "2023-09-16T09:07:39.888Z"
   },
   {
    "duration": 1880,
    "start_time": "2023-09-16T09:07:39.918Z"
   },
   {
    "duration": 477,
    "start_time": "2023-09-16T09:07:41.802Z"
   },
   {
    "duration": 96,
    "start_time": "2023-09-16T09:07:42.281Z"
   },
   {
    "duration": 114,
    "start_time": "2023-09-16T09:07:42.379Z"
   },
   {
    "duration": 26,
    "start_time": "2023-09-16T09:07:42.495Z"
   },
   {
    "duration": 41,
    "start_time": "2023-09-16T09:07:42.523Z"
   },
   {
    "duration": 45,
    "start_time": "2023-09-16T09:07:42.568Z"
   },
   {
    "duration": 32,
    "start_time": "2023-09-16T09:07:42.616Z"
   },
   {
    "duration": 102,
    "start_time": "2023-09-16T09:07:42.650Z"
   },
   {
    "duration": 15,
    "start_time": "2023-09-16T09:07:42.754Z"
   },
   {
    "duration": 467,
    "start_time": "2023-09-16T09:07:42.771Z"
   },
   {
    "duration": 0,
    "start_time": "2023-09-16T09:07:43.240Z"
   },
   {
    "duration": 0,
    "start_time": "2023-09-16T09:07:43.241Z"
   },
   {
    "duration": 0,
    "start_time": "2023-09-16T09:07:43.242Z"
   },
   {
    "duration": 1,
    "start_time": "2023-09-16T09:07:43.243Z"
   },
   {
    "duration": 0,
    "start_time": "2023-09-16T09:07:43.245Z"
   },
   {
    "duration": 0,
    "start_time": "2023-09-16T09:07:43.246Z"
   },
   {
    "duration": 0,
    "start_time": "2023-09-16T09:07:43.247Z"
   },
   {
    "duration": 0,
    "start_time": "2023-09-16T09:07:43.248Z"
   },
   {
    "duration": 0,
    "start_time": "2023-09-16T09:07:43.249Z"
   },
   {
    "duration": 0,
    "start_time": "2023-09-16T09:07:43.250Z"
   },
   {
    "duration": 0,
    "start_time": "2023-09-16T09:07:43.251Z"
   },
   {
    "duration": 0,
    "start_time": "2023-09-16T09:07:43.252Z"
   },
   {
    "duration": 0,
    "start_time": "2023-09-16T09:07:43.253Z"
   },
   {
    "duration": 0,
    "start_time": "2023-09-16T09:07:43.255Z"
   },
   {
    "duration": 0,
    "start_time": "2023-09-16T09:07:43.255Z"
   },
   {
    "duration": 0,
    "start_time": "2023-09-16T09:07:43.256Z"
   },
   {
    "duration": 0,
    "start_time": "2023-09-16T09:07:43.257Z"
   },
   {
    "duration": 0,
    "start_time": "2023-09-16T09:07:43.258Z"
   },
   {
    "duration": 1301,
    "start_time": "2023-09-16T09:09:17.485Z"
   },
   {
    "duration": 187,
    "start_time": "2023-09-16T09:09:18.787Z"
   },
   {
    "duration": 36,
    "start_time": "2023-09-16T09:09:18.975Z"
   },
   {
    "duration": 72,
    "start_time": "2023-09-16T09:09:19.013Z"
   },
   {
    "duration": 94,
    "start_time": "2023-09-16T09:09:19.087Z"
   },
   {
    "duration": 4,
    "start_time": "2023-09-16T09:09:19.183Z"
   },
   {
    "duration": 147,
    "start_time": "2023-09-16T09:09:19.189Z"
   },
   {
    "duration": 83,
    "start_time": "2023-09-16T09:09:19.338Z"
   },
   {
    "duration": 15,
    "start_time": "2023-09-16T09:09:19.423Z"
   },
   {
    "duration": 32,
    "start_time": "2023-09-16T09:09:19.442Z"
   },
   {
    "duration": 8,
    "start_time": "2023-09-16T09:09:19.475Z"
   },
   {
    "duration": 26,
    "start_time": "2023-09-16T09:09:19.485Z"
   },
   {
    "duration": 1893,
    "start_time": "2023-09-16T09:09:19.513Z"
   },
   {
    "duration": 470,
    "start_time": "2023-09-16T09:09:21.410Z"
   },
   {
    "duration": 92,
    "start_time": "2023-09-16T09:09:21.882Z"
   },
   {
    "duration": 83,
    "start_time": "2023-09-16T09:09:21.976Z"
   },
   {
    "duration": 19,
    "start_time": "2023-09-16T09:09:22.061Z"
   },
   {
    "duration": 49,
    "start_time": "2023-09-16T09:09:22.082Z"
   },
   {
    "duration": 19,
    "start_time": "2023-09-16T09:09:22.133Z"
   },
   {
    "duration": 36,
    "start_time": "2023-09-16T09:09:22.154Z"
   },
   {
    "duration": 83,
    "start_time": "2023-09-16T09:09:22.192Z"
   },
   {
    "duration": 15,
    "start_time": "2023-09-16T09:09:22.277Z"
   },
   {
    "duration": 551,
    "start_time": "2023-09-16T09:09:22.293Z"
   },
   {
    "duration": 0,
    "start_time": "2023-09-16T09:09:22.847Z"
   },
   {
    "duration": 0,
    "start_time": "2023-09-16T09:09:22.848Z"
   },
   {
    "duration": 0,
    "start_time": "2023-09-16T09:09:22.849Z"
   },
   {
    "duration": 0,
    "start_time": "2023-09-16T09:09:22.850Z"
   },
   {
    "duration": 0,
    "start_time": "2023-09-16T09:09:22.852Z"
   },
   {
    "duration": 0,
    "start_time": "2023-09-16T09:09:22.853Z"
   },
   {
    "duration": 0,
    "start_time": "2023-09-16T09:09:22.854Z"
   },
   {
    "duration": 0,
    "start_time": "2023-09-16T09:09:22.856Z"
   },
   {
    "duration": 0,
    "start_time": "2023-09-16T09:09:22.856Z"
   },
   {
    "duration": 0,
    "start_time": "2023-09-16T09:09:22.858Z"
   },
   {
    "duration": 0,
    "start_time": "2023-09-16T09:09:22.859Z"
   },
   {
    "duration": 0,
    "start_time": "2023-09-16T09:09:22.860Z"
   },
   {
    "duration": 0,
    "start_time": "2023-09-16T09:09:22.861Z"
   },
   {
    "duration": 0,
    "start_time": "2023-09-16T09:09:22.862Z"
   },
   {
    "duration": 0,
    "start_time": "2023-09-16T09:09:22.863Z"
   },
   {
    "duration": 0,
    "start_time": "2023-09-16T09:09:22.864Z"
   },
   {
    "duration": 0,
    "start_time": "2023-09-16T09:09:22.866Z"
   },
   {
    "duration": 0,
    "start_time": "2023-09-16T09:09:22.867Z"
   },
   {
    "duration": 46,
    "start_time": "2023-09-16T15:36:06.541Z"
   },
   {
    "duration": 6,
    "start_time": "2023-09-16T15:36:17.771Z"
   },
   {
    "duration": 1228,
    "start_time": "2023-09-16T15:36:37.872Z"
   },
   {
    "duration": 66,
    "start_time": "2023-09-16T15:36:41.927Z"
   },
   {
    "duration": 1160,
    "start_time": "2023-09-16T15:36:51.341Z"
   },
   {
    "duration": 508,
    "start_time": "2023-09-16T15:36:52.503Z"
   },
   {
    "duration": 22,
    "start_time": "2023-09-16T15:36:53.013Z"
   },
   {
    "duration": 76,
    "start_time": "2023-09-16T15:36:53.037Z"
   },
   {
    "duration": 68,
    "start_time": "2023-09-16T15:36:53.114Z"
   },
   {
    "duration": 3,
    "start_time": "2023-09-16T15:36:53.184Z"
   },
   {
    "duration": 147,
    "start_time": "2023-09-16T15:36:53.189Z"
   },
   {
    "duration": 57,
    "start_time": "2023-09-16T15:36:53.338Z"
   },
   {
    "duration": 13,
    "start_time": "2023-09-16T15:36:53.396Z"
   },
   {
    "duration": 37,
    "start_time": "2023-09-16T15:36:53.411Z"
   },
   {
    "duration": 42,
    "start_time": "2023-09-16T15:36:53.450Z"
   },
   {
    "duration": 32,
    "start_time": "2023-09-16T15:36:53.494Z"
   },
   {
    "duration": 1721,
    "start_time": "2023-09-16T15:36:53.528Z"
   },
   {
    "duration": 409,
    "start_time": "2023-09-16T15:36:55.250Z"
   },
   {
    "duration": 69,
    "start_time": "2023-09-16T15:36:55.660Z"
   },
   {
    "duration": 78,
    "start_time": "2023-09-16T15:36:55.730Z"
   },
   {
    "duration": 18,
    "start_time": "2023-09-16T15:36:55.809Z"
   },
   {
    "duration": 49,
    "start_time": "2023-09-16T15:36:55.829Z"
   },
   {
    "duration": 19,
    "start_time": "2023-09-16T15:36:55.879Z"
   },
   {
    "duration": 64,
    "start_time": "2023-09-16T15:36:55.899Z"
   },
   {
    "duration": 77,
    "start_time": "2023-09-16T15:36:55.967Z"
   },
   {
    "duration": 19,
    "start_time": "2023-09-16T15:36:56.046Z"
   },
   {
    "duration": 427,
    "start_time": "2023-09-16T15:36:57.887Z"
   },
   {
    "duration": 328,
    "start_time": "2023-09-16T15:37:02.404Z"
   },
   {
    "duration": 312,
    "start_time": "2023-09-16T15:37:58.201Z"
   },
   {
    "duration": 1098,
    "start_time": "2023-09-16T15:38:39.282Z"
   },
   {
    "duration": 168,
    "start_time": "2023-09-16T15:38:40.382Z"
   },
   {
    "duration": 21,
    "start_time": "2023-09-16T15:38:40.552Z"
   },
   {
    "duration": 56,
    "start_time": "2023-09-16T15:38:40.575Z"
   },
   {
    "duration": 84,
    "start_time": "2023-09-16T15:38:40.633Z"
   },
   {
    "duration": 4,
    "start_time": "2023-09-16T15:38:40.718Z"
   },
   {
    "duration": 130,
    "start_time": "2023-09-16T15:38:40.723Z"
   },
   {
    "duration": 54,
    "start_time": "2023-09-16T15:38:40.854Z"
   },
   {
    "duration": 12,
    "start_time": "2023-09-16T15:38:40.910Z"
   },
   {
    "duration": 33,
    "start_time": "2023-09-16T15:38:40.923Z"
   },
   {
    "duration": 10,
    "start_time": "2023-09-16T15:38:40.958Z"
   },
   {
    "duration": 13,
    "start_time": "2023-09-16T15:38:40.969Z"
   },
   {
    "duration": 1606,
    "start_time": "2023-09-16T15:38:40.983Z"
   },
   {
    "duration": 406,
    "start_time": "2023-09-16T15:38:42.592Z"
   },
   {
    "duration": 79,
    "start_time": "2023-09-16T15:38:43.000Z"
   },
   {
    "duration": 59,
    "start_time": "2023-09-16T15:38:43.080Z"
   },
   {
    "duration": 17,
    "start_time": "2023-09-16T15:38:43.149Z"
   },
   {
    "duration": 26,
    "start_time": "2023-09-16T15:38:43.168Z"
   },
   {
    "duration": 16,
    "start_time": "2023-09-16T15:38:43.196Z"
   },
   {
    "duration": 52,
    "start_time": "2023-09-16T15:38:43.213Z"
   },
   {
    "duration": 67,
    "start_time": "2023-09-16T15:38:43.266Z"
   },
   {
    "duration": 11,
    "start_time": "2023-09-16T15:38:43.335Z"
   },
   {
    "duration": 349,
    "start_time": "2023-09-16T15:38:46.552Z"
   },
   {
    "duration": 86,
    "start_time": "2023-09-16T15:38:50.007Z"
   },
   {
    "duration": 4,
    "start_time": "2023-09-16T15:39:08.597Z"
   },
   {
    "duration": 9,
    "start_time": "2023-09-16T15:39:12.878Z"
   },
   {
    "duration": 1157,
    "start_time": "2023-09-16T15:39:22.730Z"
   },
   {
    "duration": 158,
    "start_time": "2023-09-16T15:39:23.889Z"
   },
   {
    "duration": 21,
    "start_time": "2023-09-16T15:39:24.049Z"
   },
   {
    "duration": 65,
    "start_time": "2023-09-16T15:39:24.072Z"
   },
   {
    "duration": 79,
    "start_time": "2023-09-16T15:39:24.139Z"
   },
   {
    "duration": 4,
    "start_time": "2023-09-16T15:39:24.220Z"
   },
   {
    "duration": 139,
    "start_time": "2023-09-16T15:39:24.225Z"
   },
   {
    "duration": 56,
    "start_time": "2023-09-16T15:39:24.366Z"
   },
   {
    "duration": 12,
    "start_time": "2023-09-16T15:39:24.424Z"
   },
   {
    "duration": 27,
    "start_time": "2023-09-16T15:39:24.450Z"
   },
   {
    "duration": 18,
    "start_time": "2023-09-16T15:39:24.479Z"
   },
   {
    "duration": 13,
    "start_time": "2023-09-16T15:39:24.499Z"
   },
   {
    "duration": 1644,
    "start_time": "2023-09-16T15:39:24.514Z"
   },
   {
    "duration": 411,
    "start_time": "2023-09-16T15:39:26.161Z"
   },
   {
    "duration": 76,
    "start_time": "2023-09-16T15:39:26.574Z"
   },
   {
    "duration": 62,
    "start_time": "2023-09-16T15:39:26.652Z"
   },
   {
    "duration": 33,
    "start_time": "2023-09-16T15:39:26.716Z"
   },
   {
    "duration": 27,
    "start_time": "2023-09-16T15:39:26.751Z"
   },
   {
    "duration": 18,
    "start_time": "2023-09-16T15:39:26.779Z"
   },
   {
    "duration": 24,
    "start_time": "2023-09-16T15:39:26.798Z"
   },
   {
    "duration": 82,
    "start_time": "2023-09-16T15:39:26.824Z"
   },
   {
    "duration": 12,
    "start_time": "2023-09-16T15:39:26.908Z"
   },
   {
    "duration": 392,
    "start_time": "2023-09-16T15:39:26.922Z"
   },
   {
    "duration": 96,
    "start_time": "2023-09-16T15:39:30.408Z"
   },
   {
    "duration": 4,
    "start_time": "2023-09-16T15:40:21.716Z"
   },
   {
    "duration": 169,
    "start_time": "2023-09-16T15:40:27.887Z"
   },
   {
    "duration": 7,
    "start_time": "2023-09-16T15:42:34.501Z"
   },
   {
    "duration": 30,
    "start_time": "2023-09-16T15:42:35.429Z"
   },
   {
    "duration": 33,
    "start_time": "2023-09-16T15:42:36.942Z"
   },
   {
    "duration": 4,
    "start_time": "2023-09-16T15:42:38.749Z"
   },
   {
    "duration": 97,
    "start_time": "2023-09-16T15:42:39.889Z"
   },
   {
    "duration": 15,
    "start_time": "2023-09-16T15:42:40.797Z"
   },
   {
    "duration": 5,
    "start_time": "2023-09-16T15:42:43.064Z"
   },
   {
    "duration": 19,
    "start_time": "2023-09-16T15:42:43.600Z"
   },
   {
    "duration": 20,
    "start_time": "2023-09-16T15:42:44.074Z"
   },
   {
    "duration": 20,
    "start_time": "2023-09-16T15:42:44.661Z"
   },
   {
    "duration": 20,
    "start_time": "2023-09-16T15:42:45.180Z"
   },
   {
    "duration": 12,
    "start_time": "2023-09-16T15:42:46.884Z"
   },
   {
    "duration": 8,
    "start_time": "2023-09-16T15:42:48.355Z"
   },
   {
    "duration": 65,
    "start_time": "2023-09-16T15:42:54.061Z"
   },
   {
    "duration": 53,
    "start_time": "2023-09-16T15:42:54.717Z"
   },
   {
    "duration": 55,
    "start_time": "2023-09-16T15:42:57.899Z"
   },
   {
    "duration": 52,
    "start_time": "2023-09-16T15:42:59.727Z"
   },
   {
    "duration": 1248,
    "start_time": "2023-09-16T15:43:14.121Z"
   },
   {
    "duration": 169,
    "start_time": "2023-09-16T15:43:15.372Z"
   },
   {
    "duration": 22,
    "start_time": "2023-09-16T15:43:15.543Z"
   },
   {
    "duration": 62,
    "start_time": "2023-09-16T15:43:15.567Z"
   },
   {
    "duration": 78,
    "start_time": "2023-09-16T15:43:15.631Z"
   },
   {
    "duration": 3,
    "start_time": "2023-09-16T15:43:15.711Z"
   },
   {
    "duration": 140,
    "start_time": "2023-09-16T15:43:15.716Z"
   },
   {
    "duration": 58,
    "start_time": "2023-09-16T15:43:15.857Z"
   },
   {
    "duration": 12,
    "start_time": "2023-09-16T15:43:15.917Z"
   },
   {
    "duration": 17,
    "start_time": "2023-09-16T15:43:15.950Z"
   },
   {
    "duration": 13,
    "start_time": "2023-09-16T15:43:15.968Z"
   },
   {
    "duration": 15,
    "start_time": "2023-09-16T15:43:15.982Z"
   },
   {
    "duration": 1853,
    "start_time": "2023-09-16T15:43:15.999Z"
   },
   {
    "duration": 419,
    "start_time": "2023-09-16T15:43:17.854Z"
   },
   {
    "duration": 88,
    "start_time": "2023-09-16T15:43:18.274Z"
   },
   {
    "duration": 86,
    "start_time": "2023-09-16T15:43:18.364Z"
   },
   {
    "duration": 24,
    "start_time": "2023-09-16T15:43:18.452Z"
   },
   {
    "duration": 41,
    "start_time": "2023-09-16T15:43:18.478Z"
   },
   {
    "duration": 33,
    "start_time": "2023-09-16T15:43:18.521Z"
   },
   {
    "duration": 27,
    "start_time": "2023-09-16T15:43:18.556Z"
   },
   {
    "duration": 84,
    "start_time": "2023-09-16T15:43:18.585Z"
   },
   {
    "duration": 13,
    "start_time": "2023-09-16T15:43:18.671Z"
   },
   {
    "duration": 340,
    "start_time": "2023-09-16T15:43:18.686Z"
   },
   {
    "duration": 164,
    "start_time": "2023-09-16T15:43:19.029Z"
   },
   {
    "duration": 7,
    "start_time": "2023-09-16T15:43:19.194Z"
   },
   {
    "duration": 64,
    "start_time": "2023-09-16T15:43:19.203Z"
   },
   {
    "duration": 30,
    "start_time": "2023-09-16T15:43:19.269Z"
   },
   {
    "duration": 47,
    "start_time": "2023-09-16T15:43:19.302Z"
   },
   {
    "duration": 105,
    "start_time": "2023-09-16T15:43:19.351Z"
   },
   {
    "duration": 23,
    "start_time": "2023-09-16T15:43:19.458Z"
   },
   {
    "duration": 8,
    "start_time": "2023-09-16T15:43:19.483Z"
   },
   {
    "duration": 41,
    "start_time": "2023-09-16T15:43:19.493Z"
   },
   {
    "duration": 39,
    "start_time": "2023-09-16T15:43:19.536Z"
   },
   {
    "duration": 20,
    "start_time": "2023-09-16T15:43:19.577Z"
   },
   {
    "duration": 19,
    "start_time": "2023-09-16T15:43:19.599Z"
   },
   {
    "duration": 33,
    "start_time": "2023-09-16T15:43:19.620Z"
   },
   {
    "duration": 10,
    "start_time": "2023-09-16T15:43:19.654Z"
   },
   {
    "duration": 56,
    "start_time": "2023-09-16T15:43:19.666Z"
   },
   {
    "duration": 62,
    "start_time": "2023-09-16T15:43:19.724Z"
   },
   {
    "duration": 66,
    "start_time": "2023-09-16T15:43:19.787Z"
   },
   {
    "duration": 52,
    "start_time": "2023-09-16T15:43:19.855Z"
   },
   {
    "duration": 1230,
    "start_time": "2023-09-16T19:51:05.855Z"
   },
   {
    "duration": 190,
    "start_time": "2023-09-16T19:51:07.087Z"
   },
   {
    "duration": 36,
    "start_time": "2023-09-16T19:51:07.279Z"
   },
   {
    "duration": 73,
    "start_time": "2023-09-16T19:51:07.317Z"
   },
   {
    "duration": 100,
    "start_time": "2023-09-16T19:51:07.407Z"
   },
   {
    "duration": 7,
    "start_time": "2023-09-16T19:51:07.510Z"
   },
   {
    "duration": 198,
    "start_time": "2023-09-16T19:51:07.519Z"
   },
   {
    "duration": 71,
    "start_time": "2023-09-16T19:51:07.719Z"
   },
   {
    "duration": 21,
    "start_time": "2023-09-16T19:51:07.802Z"
   },
   {
    "duration": 19,
    "start_time": "2023-09-16T19:51:07.826Z"
   },
   {
    "duration": 19,
    "start_time": "2023-09-16T19:51:07.846Z"
   },
   {
    "duration": 14,
    "start_time": "2023-09-16T19:51:07.867Z"
   },
   {
    "duration": 2339,
    "start_time": "2023-09-16T19:51:07.883Z"
   },
   {
    "duration": 536,
    "start_time": "2023-09-16T19:51:10.224Z"
   },
   {
    "duration": 101,
    "start_time": "2023-09-16T19:51:10.762Z"
   },
   {
    "duration": 81,
    "start_time": "2023-09-16T19:51:10.865Z"
   },
   {
    "duration": 21,
    "start_time": "2023-09-16T19:51:10.948Z"
   },
   {
    "duration": 61,
    "start_time": "2023-09-16T19:51:10.971Z"
   },
   {
    "duration": 22,
    "start_time": "2023-09-16T19:51:11.035Z"
   },
   {
    "duration": 50,
    "start_time": "2023-09-16T19:51:11.059Z"
   },
   {
    "duration": 85,
    "start_time": "2023-09-16T19:51:11.113Z"
   },
   {
    "duration": 23,
    "start_time": "2023-09-16T19:51:11.202Z"
   },
   {
    "duration": 414,
    "start_time": "2023-09-16T19:51:11.227Z"
   },
   {
    "duration": 344,
    "start_time": "2023-09-16T19:51:11.643Z"
   },
   {
    "duration": 7,
    "start_time": "2023-09-16T19:51:11.989Z"
   },
   {
    "duration": 105,
    "start_time": "2023-09-16T19:51:11.997Z"
   },
   {
    "duration": 42,
    "start_time": "2023-09-16T19:51:12.104Z"
   },
   {
    "duration": 14,
    "start_time": "2023-09-16T19:51:12.203Z"
   },
   {
    "duration": 166,
    "start_time": "2023-09-16T19:51:12.220Z"
   },
   {
    "duration": 34,
    "start_time": "2023-09-16T19:51:12.388Z"
   },
   {
    "duration": 248,
    "start_time": "2023-09-16T19:51:12.423Z"
   },
   {
    "duration": 316,
    "start_time": "2023-09-16T19:51:12.673Z"
   },
   {
    "duration": 227,
    "start_time": "2023-09-16T19:51:12.991Z"
   },
   {
    "duration": 56,
    "start_time": "2023-09-16T19:51:13.220Z"
   },
   {
    "duration": 35,
    "start_time": "2023-09-16T19:51:13.278Z"
   },
   {
    "duration": 12,
    "start_time": "2023-09-16T19:51:13.316Z"
   },
   {
    "duration": 48,
    "start_time": "2023-09-16T19:51:13.330Z"
   },
   {
    "duration": 97,
    "start_time": "2023-09-16T19:51:13.380Z"
   },
   {
    "duration": 79,
    "start_time": "2023-09-16T19:51:13.479Z"
   },
   {
    "duration": 82,
    "start_time": "2023-09-16T19:51:13.560Z"
   },
   {
    "duration": 77,
    "start_time": "2023-09-16T19:51:13.644Z"
   },
   {
    "duration": 48,
    "start_time": "2023-09-17T06:39:48.504Z"
   },
   {
    "duration": 1482,
    "start_time": "2023-09-17T06:40:06.738Z"
   },
   {
    "duration": 761,
    "start_time": "2023-09-17T06:40:08.223Z"
   },
   {
    "duration": 44,
    "start_time": "2023-09-17T06:40:08.986Z"
   },
   {
    "duration": 92,
    "start_time": "2023-09-17T06:40:09.033Z"
   },
   {
    "duration": 85,
    "start_time": "2023-09-17T06:40:09.127Z"
   },
   {
    "duration": 14,
    "start_time": "2023-09-17T06:40:09.214Z"
   },
   {
    "duration": 140,
    "start_time": "2023-09-17T06:40:09.230Z"
   },
   {
    "duration": 82,
    "start_time": "2023-09-17T06:40:09.372Z"
   },
   {
    "duration": 16,
    "start_time": "2023-09-17T06:40:09.457Z"
   },
   {
    "duration": 29,
    "start_time": "2023-09-17T06:40:09.476Z"
   },
   {
    "duration": 8,
    "start_time": "2023-09-17T06:40:09.507Z"
   },
   {
    "duration": 27,
    "start_time": "2023-09-17T06:40:09.517Z"
   },
   {
    "duration": 2040,
    "start_time": "2023-09-17T06:40:09.546Z"
   },
   {
    "duration": 490,
    "start_time": "2023-09-17T06:40:11.589Z"
   },
   {
    "duration": 102,
    "start_time": "2023-09-17T06:40:12.081Z"
   },
   {
    "duration": 91,
    "start_time": "2023-09-17T06:40:12.185Z"
   },
   {
    "duration": 28,
    "start_time": "2023-09-17T06:40:12.278Z"
   },
   {
    "duration": 47,
    "start_time": "2023-09-17T06:40:12.308Z"
   },
   {
    "duration": 18,
    "start_time": "2023-09-17T06:40:12.356Z"
   },
   {
    "duration": 32,
    "start_time": "2023-09-17T06:40:12.375Z"
   },
   {
    "duration": 74,
    "start_time": "2023-09-17T06:40:12.424Z"
   },
   {
    "duration": 34,
    "start_time": "2023-09-17T06:40:12.500Z"
   },
   {
    "duration": 391,
    "start_time": "2023-09-17T06:40:12.540Z"
   },
   {
    "duration": 1461,
    "start_time": "2023-09-17T06:40:12.933Z"
   },
   {
    "duration": 0,
    "start_time": "2023-09-17T06:40:14.397Z"
   },
   {
    "duration": 0,
    "start_time": "2023-09-17T06:40:14.404Z"
   },
   {
    "duration": 0,
    "start_time": "2023-09-17T06:40:14.405Z"
   },
   {
    "duration": 1,
    "start_time": "2023-09-17T06:40:14.406Z"
   },
   {
    "duration": 0,
    "start_time": "2023-09-17T06:40:14.408Z"
   },
   {
    "duration": 0,
    "start_time": "2023-09-17T06:40:14.410Z"
   },
   {
    "duration": 0,
    "start_time": "2023-09-17T06:40:14.411Z"
   },
   {
    "duration": 0,
    "start_time": "2023-09-17T06:40:14.413Z"
   },
   {
    "duration": 0,
    "start_time": "2023-09-17T06:40:14.414Z"
   },
   {
    "duration": 0,
    "start_time": "2023-09-17T06:40:14.416Z"
   },
   {
    "duration": 1,
    "start_time": "2023-09-17T06:40:14.417Z"
   },
   {
    "duration": 0,
    "start_time": "2023-09-17T06:40:14.419Z"
   },
   {
    "duration": 0,
    "start_time": "2023-09-17T06:40:14.421Z"
   },
   {
    "duration": 0,
    "start_time": "2023-09-17T06:40:14.422Z"
   },
   {
    "duration": 0,
    "start_time": "2023-09-17T06:40:14.427Z"
   },
   {
    "duration": 0,
    "start_time": "2023-09-17T06:40:14.428Z"
   },
   {
    "duration": 0,
    "start_time": "2023-09-17T06:40:14.430Z"
   },
   {
    "duration": 156,
    "start_time": "2023-09-17T06:41:32.664Z"
   },
   {
    "duration": 18,
    "start_time": "2023-09-17T06:41:50.539Z"
   },
   {
    "duration": 82,
    "start_time": "2023-09-17T06:42:03.622Z"
   },
   {
    "duration": 19,
    "start_time": "2023-09-17T06:43:01.187Z"
   },
   {
    "duration": 12,
    "start_time": "2023-09-17T06:43:09.774Z"
   },
   {
    "duration": 16,
    "start_time": "2023-09-17T06:43:13.377Z"
   },
   {
    "duration": 15,
    "start_time": "2023-09-17T06:43:59.585Z"
   },
   {
    "duration": 13,
    "start_time": "2023-09-17T06:44:07.808Z"
   },
   {
    "duration": 18,
    "start_time": "2023-09-17T06:44:19.418Z"
   },
   {
    "duration": 1317,
    "start_time": "2023-09-17T09:48:47.403Z"
   },
   {
    "duration": 584,
    "start_time": "2023-09-17T09:48:48.721Z"
   },
   {
    "duration": 29,
    "start_time": "2023-09-17T09:48:49.306Z"
   },
   {
    "duration": 71,
    "start_time": "2023-09-17T09:48:49.336Z"
   },
   {
    "duration": 95,
    "start_time": "2023-09-17T09:48:49.409Z"
   },
   {
    "duration": 5,
    "start_time": "2023-09-17T09:48:49.505Z"
   },
   {
    "duration": 185,
    "start_time": "2023-09-17T09:48:49.511Z"
   },
   {
    "duration": 64,
    "start_time": "2023-09-17T09:48:49.697Z"
   },
   {
    "duration": 18,
    "start_time": "2023-09-17T09:48:49.763Z"
   },
   {
    "duration": 27,
    "start_time": "2023-09-17T09:48:49.782Z"
   },
   {
    "duration": 9,
    "start_time": "2023-09-17T09:48:49.810Z"
   },
   {
    "duration": 13,
    "start_time": "2023-09-17T09:48:49.820Z"
   },
   {
    "duration": 1792,
    "start_time": "2023-09-17T09:48:49.834Z"
   },
   {
    "duration": 449,
    "start_time": "2023-09-17T09:48:51.628Z"
   },
   {
    "duration": 93,
    "start_time": "2023-09-17T09:48:52.080Z"
   },
   {
    "duration": 58,
    "start_time": "2023-09-17T09:48:52.176Z"
   },
   {
    "duration": 39,
    "start_time": "2023-09-17T09:48:52.236Z"
   },
   {
    "duration": 36,
    "start_time": "2023-09-17T09:48:52.277Z"
   },
   {
    "duration": 26,
    "start_time": "2023-09-17T09:48:52.315Z"
   },
   {
    "duration": 36,
    "start_time": "2023-09-17T09:48:52.342Z"
   },
   {
    "duration": 63,
    "start_time": "2023-09-17T09:48:52.380Z"
   },
   {
    "duration": 20,
    "start_time": "2023-09-17T09:48:52.449Z"
   },
   {
    "duration": 378,
    "start_time": "2023-09-17T09:48:52.471Z"
   },
   {
    "duration": 362,
    "start_time": "2023-09-17T09:48:52.851Z"
   },
   {
    "duration": 8,
    "start_time": "2023-09-17T09:48:53.214Z"
   },
   {
    "duration": 55,
    "start_time": "2023-09-17T09:48:53.224Z"
   },
   {
    "duration": 88,
    "start_time": "2023-09-17T09:48:53.281Z"
   },
   {
    "duration": 5,
    "start_time": "2023-09-17T09:48:53.371Z"
   },
   {
    "duration": 161,
    "start_time": "2023-09-17T09:48:53.377Z"
   },
   {
    "duration": 30,
    "start_time": "2023-09-17T09:48:53.539Z"
   },
   {
    "duration": 23,
    "start_time": "2023-09-17T09:48:53.571Z"
   },
   {
    "duration": 29,
    "start_time": "2023-09-17T09:48:53.596Z"
   },
   {
    "duration": 17,
    "start_time": "2023-09-17T09:48:53.627Z"
   },
   {
    "duration": 25,
    "start_time": "2023-09-17T09:48:53.646Z"
   },
   {
    "duration": 19,
    "start_time": "2023-09-17T09:48:53.672Z"
   },
   {
    "duration": 16,
    "start_time": "2023-09-17T09:48:53.693Z"
   },
   {
    "duration": 19,
    "start_time": "2023-09-17T09:48:53.711Z"
   },
   {
    "duration": 73,
    "start_time": "2023-09-17T09:48:53.732Z"
   },
   {
    "duration": 67,
    "start_time": "2023-09-17T09:48:53.806Z"
   },
   {
    "duration": 51,
    "start_time": "2023-09-17T09:48:53.875Z"
   },
   {
    "duration": 73,
    "start_time": "2023-09-17T09:48:53.929Z"
   }
  ],
  "kernelspec": {
   "display_name": "Python 3 (ipykernel)",
   "language": "python",
   "name": "python3"
  },
  "language_info": {
   "codemirror_mode": {
    "name": "ipython",
    "version": 3
   },
   "file_extension": ".py",
   "mimetype": "text/x-python",
   "name": "python",
   "nbconvert_exporter": "python",
   "pygments_lexer": "ipython3",
   "version": "3.9.13"
  },
  "toc": {
   "base_numbering": 1,
   "nav_menu": {},
   "number_sections": true,
   "sideBar": true,
   "skip_h1_title": true,
   "title_cell": "Table of Contents",
   "title_sidebar": "Contents",
   "toc_cell": false,
   "toc_position": {},
   "toc_section_display": true,
   "toc_window_display": false
  }
 },
 "nbformat": 4,
 "nbformat_minor": 2
}
